{
 "cells": [
  {
   "cell_type": "markdown",
   "metadata": {},
   "source": [
    "# Workbook for processing WhatsApp chats \n",
    "Uses pandas for data pre-processing, HuggingFace transformers for sentiment analysis, and BERTopic to summarise topics.\n",
    "\n",
    "This workbook analyses the Whatsapp chat established in response to the changing of Brighton schools catchment areas. The data was downloaded 16/10/24. "
   ]
  },
  {
   "cell_type": "code",
   "execution_count": 1,
   "metadata": {},
   "outputs": [
    {
     "name": "stderr",
     "output_type": "stream",
     "text": [
      "/opt/miniconda3/envs/nlp_env/lib/python3.9/site-packages/tqdm/auto.py:21: TqdmWarning: IProgress not found. Please update jupyter and ipywidgets. See https://ipywidgets.readthedocs.io/en/stable/user_install.html\n",
      "  from .autonotebook import tqdm as notebook_tqdm\n"
     ]
    }
   ],
   "source": [
    "import numpy as np\n",
    "import regex\n",
    "import pandas as pd\n",
    "import os\n",
    "\n",
    "from collections import Counter\n",
    "import matplotlib.pyplot as plt\n",
    "\n",
    "from transformers import BertTokenizerFast, pipeline\n",
    "\n",
    "from umap import UMAP\n",
    "from bertopic import BERTopic\n",
    "from bertopic.representation import KeyBERTInspired\n",
    "from bertopic import BERTopic\n",
    "\n",
    "import whatsapp_processing_functions as wpf"
   ]
  },
  {
   "cell_type": "markdown",
   "metadata": {},
   "source": [
    "Load the .txt file exported from the whatsapp chat"
   ]
  },
  {
   "cell_type": "code",
   "execution_count": 2,
   "metadata": {},
   "outputs": [],
   "source": [
    "conversation = '/Users/bea/Documents/AI4CI/projects/brighton_schools/whatsapp_data/WhatsApp Chat with School catchment area updates/WhatsApp Chat with School catchment area updates.txt'\n",
    "df = wpf.whatsapptxt_to_df(conversation)"
   ]
  },
  {
   "cell_type": "code",
   "execution_count": 3,
   "metadata": {},
   "outputs": [
    {
     "data": {
      "text/html": [
       "<div>\n",
       "<style scoped>\n",
       "    .dataframe tbody tr th:only-of-type {\n",
       "        vertical-align: middle;\n",
       "    }\n",
       "\n",
       "    .dataframe tbody tr th {\n",
       "        vertical-align: top;\n",
       "    }\n",
       "\n",
       "    .dataframe thead th {\n",
       "        text-align: right;\n",
       "    }\n",
       "</style>\n",
       "<table border=\"1\" class=\"dataframe\">\n",
       "  <thead>\n",
       "    <tr style=\"text-align: right;\">\n",
       "      <th></th>\n",
       "      <th>Date</th>\n",
       "      <th>Time</th>\n",
       "      <th>Author</th>\n",
       "      <th>Message</th>\n",
       "      <th>emoji</th>\n",
       "      <th>Message_length</th>\n",
       "    </tr>\n",
       "  </thead>\n",
       "  <tbody>\n",
       "    <tr>\n",
       "      <th>1464</th>\n",
       "      <td>2024-10-16</td>\n",
       "      <td>10:44:00</td>\n",
       "      <td>+44 7950 703968</td>\n",
       "      <td>Yes, and that’s what the new Longhill head ha...</td>\n",
       "      <td>[]</td>\n",
       "      <td>323</td>\n",
       "    </tr>\n",
       "    <tr>\n",
       "      <th>1465</th>\n",
       "      <td>2024-10-16</td>\n",
       "      <td>10:44:00</td>\n",
       "      <td>+44 7824 353019</td>\n",
       "      <td>We should name this group Catchment gate.</td>\n",
       "      <td>[]</td>\n",
       "      <td>42</td>\n",
       "    </tr>\n",
       "    <tr>\n",
       "      <th>1466</th>\n",
       "      <td>2024-10-16</td>\n",
       "      <td>10:48:00</td>\n",
       "      <td>+44 7835 412850</td>\n",
       "      <td>I have heard (from hearsay) she comes with a ...</td>\n",
       "      <td>[]</td>\n",
       "      <td>392</td>\n",
       "    </tr>\n",
       "    <tr>\n",
       "      <th>1467</th>\n",
       "      <td>2024-10-16</td>\n",
       "      <td>10:51:00</td>\n",
       "      <td>+44 7950 703968</td>\n",
       "      <td>Agreed, the underlying issues (like housing) ...</td>\n",
       "      <td>[]</td>\n",
       "      <td>207</td>\n",
       "    </tr>\n",
       "    <tr>\n",
       "      <th>1468</th>\n",
       "      <td>2024-10-16</td>\n",
       "      <td>10:53:00</td>\n",
       "      <td>+44 7909 524938</td>\n",
       "      <td>*What’s the Catch*ment &lt;This message was edited&gt;</td>\n",
       "      <td>[]</td>\n",
       "      <td>49</td>\n",
       "    </tr>\n",
       "  </tbody>\n",
       "</table>\n",
       "</div>"
      ],
      "text/plain": [
       "           Date      Time            Author  \\\n",
       "1464 2024-10-16  10:44:00   +44 7950 703968   \n",
       "1465 2024-10-16  10:44:00   +44 7824 353019   \n",
       "1466 2024-10-16  10:48:00   +44 7835 412850   \n",
       "1467 2024-10-16  10:51:00   +44 7950 703968   \n",
       "1468 2024-10-16  10:53:00   +44 7909 524938   \n",
       "\n",
       "                                                Message emoji  Message_length  \n",
       "1464   Yes, and that’s what the new Longhill head ha...    []             323  \n",
       "1465          We should name this group Catchment gate.    []              42  \n",
       "1466   I have heard (from hearsay) she comes with a ...    []             392  \n",
       "1467   Agreed, the underlying issues (like housing) ...    []             207  \n",
       "1468   *What’s the Catch*ment <This message was edited>    []              49  "
      ]
     },
     "execution_count": 3,
     "metadata": {},
     "output_type": "execute_result"
    }
   ],
   "source": [
    "df.tail()"
   ]
  },
  {
   "cell_type": "markdown",
   "metadata": {},
   "source": [
    "Initial analysis of user engagment with the WhatsApp chat"
   ]
  },
  {
   "cell_type": "code",
   "execution_count": 4,
   "metadata": {},
   "outputs": [
    {
     "data": {
      "image/png": "[encoded data removed]",
      "text/plain": [
       "<Figure size 640x480 with 1 Axes>"
      ]
     },
     "metadata": {},
     "output_type": "display_data"
    }
   ],
   "source": [
    "df_engagement = df.groupby('Date')['Message_length'].agg(['mean', 'count']).reset_index()\n",
    "\n",
    "plt.plot(df_engagement['Date'], df_engagement['count'], label='Number of messages', linestyle='-', color='red')\n",
    "plt.plot(df_engagement['Date'], df_engagement['mean'], label='Mean message length', linestyle='--', color='blue')\n",
    "plt.xlabel('Date')\n",
    "plt.xticks(rotation=45)\n",
    "plt.title('WhatsApp engagement over time')\n",
    "plt.legend()\n",
    "plt.savefig('outputs/whatsapp_engagement.png')"
   ]
  },
  {
   "cell_type": "code",
   "execution_count": 5,
   "metadata": {},
   "outputs": [
    {
     "name": "stdout",
     "output_type": "stream",
     "text": [
      "Contributing chat members: 147\n"
     ]
    }
   ],
   "source": [
    "print(f'Contributing chat members: {len(df.Author.unique())}')"
   ]
  },
  {
   "cell_type": "markdown",
   "metadata": {},
   "source": [
    "## Perform sentiment analysis"
   ]
  },
  {
   "cell_type": "code",
   "execution_count": 6,
   "metadata": {},
   "outputs": [],
   "source": [
    "if os.path.exists('outputs/whatsapp_sentiment.csv'):\n",
    "    df_sent = pd.read_csv('outputs/whatsapp_sentiment.csv')\n",
    "else:\n",
    "    df_sent = wpf.extract_sentiment(df)\n",
    "    df_sent.to_csv('outputs/whatsapp_sentiment.csv')"
   ]
  },
  {
   "cell_type": "code",
   "execution_count": 7,
   "metadata": {},
   "outputs": [
    {
     "data": {
      "text/html": [
       "<div>\n",
       "<style scoped>\n",
       "    .dataframe tbody tr th:only-of-type {\n",
       "        vertical-align: middle;\n",
       "    }\n",
       "\n",
       "    .dataframe tbody tr th {\n",
       "        vertical-align: top;\n",
       "    }\n",
       "\n",
       "    .dataframe thead th {\n",
       "        text-align: right;\n",
       "    }\n",
       "</style>\n",
       "<table border=\"1\" class=\"dataframe\">\n",
       "  <thead>\n",
       "    <tr style=\"text-align: right;\">\n",
       "      <th></th>\n",
       "      <th>Unnamed: 0</th>\n",
       "      <th>Date</th>\n",
       "      <th>Time</th>\n",
       "      <th>Author</th>\n",
       "      <th>Message</th>\n",
       "      <th>emoji</th>\n",
       "      <th>Message_length</th>\n",
       "      <th>label</th>\n",
       "      <th>score</th>\n",
       "    </tr>\n",
       "  </thead>\n",
       "  <tbody>\n",
       "    <tr>\n",
       "      <th>1464</th>\n",
       "      <td>1464</td>\n",
       "      <td>2024-10-16</td>\n",
       "      <td>10:44:00</td>\n",
       "      <td>+44 7950 703968</td>\n",
       "      <td>Yes, and that’s what the new Longhill head ha...</td>\n",
       "      <td>[]</td>\n",
       "      <td>323</td>\n",
       "      <td>negative</td>\n",
       "      <td>0.997090</td>\n",
       "    </tr>\n",
       "    <tr>\n",
       "      <th>1465</th>\n",
       "      <td>1465</td>\n",
       "      <td>2024-10-16</td>\n",
       "      <td>10:44:00</td>\n",
       "      <td>+44 7824 353019</td>\n",
       "      <td>We should name this group Catchment gate.</td>\n",
       "      <td>[]</td>\n",
       "      <td>42</td>\n",
       "      <td>neutral</td>\n",
       "      <td>0.998938</td>\n",
       "    </tr>\n",
       "    <tr>\n",
       "      <th>1466</th>\n",
       "      <td>1466</td>\n",
       "      <td>2024-10-16</td>\n",
       "      <td>10:48:00</td>\n",
       "      <td>+44 7835 412850</td>\n",
       "      <td>I have heard (from hearsay) she comes with a ...</td>\n",
       "      <td>[]</td>\n",
       "      <td>392</td>\n",
       "      <td>positive</td>\n",
       "      <td>0.995805</td>\n",
       "    </tr>\n",
       "    <tr>\n",
       "      <th>1467</th>\n",
       "      <td>1467</td>\n",
       "      <td>2024-10-16</td>\n",
       "      <td>10:51:00</td>\n",
       "      <td>+44 7950 703968</td>\n",
       "      <td>Agreed, the underlying issues (like housing) ...</td>\n",
       "      <td>[]</td>\n",
       "      <td>207</td>\n",
       "      <td>neutral</td>\n",
       "      <td>0.766887</td>\n",
       "    </tr>\n",
       "    <tr>\n",
       "      <th>1468</th>\n",
       "      <td>1468</td>\n",
       "      <td>2024-10-16</td>\n",
       "      <td>10:53:00</td>\n",
       "      <td>+44 7909 524938</td>\n",
       "      <td>*What’s the Catch*ment &lt;This message was edited&gt;</td>\n",
       "      <td>[]</td>\n",
       "      <td>49</td>\n",
       "      <td>neutral</td>\n",
       "      <td>0.999106</td>\n",
       "    </tr>\n",
       "  </tbody>\n",
       "</table>\n",
       "</div>"
      ],
      "text/plain": [
       "      Unnamed: 0        Date      Time            Author  \\\n",
       "1464        1464  2024-10-16  10:44:00   +44 7950 703968   \n",
       "1465        1465  2024-10-16  10:44:00   +44 7824 353019   \n",
       "1466        1466  2024-10-16  10:48:00   +44 7835 412850   \n",
       "1467        1467  2024-10-16  10:51:00   +44 7950 703968   \n",
       "1468        1468  2024-10-16  10:53:00   +44 7909 524938   \n",
       "\n",
       "                                                Message emoji  Message_length  \\\n",
       "1464   Yes, and that’s what the new Longhill head ha...    []             323   \n",
       "1465          We should name this group Catchment gate.    []              42   \n",
       "1466   I have heard (from hearsay) she comes with a ...    []             392   \n",
       "1467   Agreed, the underlying issues (like housing) ...    []             207   \n",
       "1468   *What’s the Catch*ment <This message was edited>    []              49   \n",
       "\n",
       "         label     score  \n",
       "1464  negative  0.997090  \n",
       "1465   neutral  0.998938  \n",
       "1466  positive  0.995805  \n",
       "1467   neutral  0.766887  \n",
       "1468   neutral  0.999106  "
      ]
     },
     "execution_count": 7,
     "metadata": {},
     "output_type": "execute_result"
    }
   ],
   "source": [
    "df_sent.tail()"
   ]
  },
  {
   "cell_type": "markdown",
   "metadata": {},
   "source": [
    "## Analyse topics using BERTopic\n",
    "\n",
    "Before analsying the topics I first remove all repetitive messages from the chat, i.e. 'x was added', 'y left' etc. "
   ]
  },
  {
   "cell_type": "code",
   "execution_count": 8,
   "metadata": {},
   "outputs": [
    {
     "name": "stdout",
     "output_type": "stream",
     "text": [
      "\"joined using this\" appears 338 times\n",
      "\"added\" appears 53 times\n",
      "\"message was deleted\" appears 20 times\n",
      "\"changed the group description\" appears 6 times\n",
      "\"attached\" appears 64 times\n",
      "\"\\d+ left\" appears 5 times\n"
     ]
    }
   ],
   "source": [
    "df_messages = wpf.remove_standard_messages(df_sent)"
   ]
  },
  {
   "cell_type": "code",
   "execution_count": 9,
   "metadata": {},
   "outputs": [
    {
     "data": {
      "text/html": [
       "<div>\n",
       "<style scoped>\n",
       "    .dataframe tbody tr th:only-of-type {\n",
       "        vertical-align: middle;\n",
       "    }\n",
       "\n",
       "    .dataframe tbody tr th {\n",
       "        vertical-align: top;\n",
       "    }\n",
       "\n",
       "    .dataframe thead th {\n",
       "        text-align: right;\n",
       "    }\n",
       "</style>\n",
       "<table border=\"1\" class=\"dataframe\">\n",
       "  <thead>\n",
       "    <tr style=\"text-align: right;\">\n",
       "      <th></th>\n",
       "      <th>Topic</th>\n",
       "      <th>Count</th>\n",
       "      <th>Name</th>\n",
       "      <th>Representation</th>\n",
       "      <th>Representative_Docs</th>\n",
       "    </tr>\n",
       "  </thead>\n",
       "  <tbody>\n",
       "    <tr>\n",
       "      <th>0</th>\n",
       "      <td>-1</td>\n",
       "      <td>325</td>\n",
       "      <td>-1_consultation_council_meeting_process</td>\n",
       "      <td>[consultation, council, meeting, process, evid...</td>\n",
       "      <td>[ Is there an option for us to do a “free scop...</td>\n",
       "    </tr>\n",
       "    <tr>\n",
       "      <th>1</th>\n",
       "      <td>0</td>\n",
       "      <td>273</td>\n",
       "      <td>0_catchment_council_policy_schools</td>\n",
       "      <td>[catchment, council, policy, schools, longhill...</td>\n",
       "      <td>[ Is Cllr Taylor actually on record making pro...</td>\n",
       "    </tr>\n",
       "    <tr>\n",
       "      <th>2</th>\n",
       "      <td>1</td>\n",
       "      <td>34</td>\n",
       "      <td>1_adam_adams_thankyou_thankful</td>\n",
       "      <td>[adam, adams, thankyou, thankful, thanks, supe...</td>\n",
       "      <td>[ Incredible Adam, thank you for your work on ...</td>\n",
       "    </tr>\n",
       "    <tr>\n",
       "      <th>3</th>\n",
       "      <td>2</td>\n",
       "      <td>32</td>\n",
       "      <td>2_same_too_me_here</td>\n",
       "      <td>[same, too, me, here, im, hear, agreed, agree,...</td>\n",
       "      <td>[ Me too,  Same here!,  Me too]</td>\n",
       "    </tr>\n",
       "    <tr>\n",
       "      <th>4</th>\n",
       "      <td>3</td>\n",
       "      <td>31</td>\n",
       "      <td>3_petition_petitions_signatures_signed</td>\n",
       "      <td>[petition, petitions, signatures, signed, sign...</td>\n",
       "      <td>[ Feels like this petition is destined to fail...</td>\n",
       "    </tr>\n",
       "    <tr>\n",
       "      <th>5</th>\n",
       "      <td>4</td>\n",
       "      <td>31</td>\n",
       "      <td>4_group_meet_joined_working</td>\n",
       "      <td>[group, meet, joined, working, admins, coordin...</td>\n",
       "      <td>[ Hi All   we have 18 folks who say they would...</td>\n",
       "    </tr>\n",
       "    <tr>\n",
       "      <th>6</th>\n",
       "      <td>5</td>\n",
       "      <td>30</td>\n",
       "      <td>5_login_password_account_registered</td>\n",
       "      <td>[login, password, account, registered, registr...</td>\n",
       "      <td>[ It seemed to be different to my normal BH on...</td>\n",
       "    </tr>\n",
       "    <tr>\n",
       "      <th>7</th>\n",
       "      <td>6</td>\n",
       "      <td>28</td>\n",
       "      <td>6_governor_resigned_resignation_deputy</td>\n",
       "      <td>[governor, resigned, resignation, deputy, gov,...</td>\n",
       "      <td>[ He was a governor until just 3 weeks ago too...</td>\n",
       "    </tr>\n",
       "    <tr>\n",
       "      <th>8</th>\n",
       "      <td>7</td>\n",
       "      <td>27</td>\n",
       "      <td>7_survey_issues_initiatives_contribute</td>\n",
       "      <td>[survey, issues, initiatives, contribute, peti...</td>\n",
       "      <td>[ Just to add too please do complete the surve...</td>\n",
       "    </tr>\n",
       "    <tr>\n",
       "      <th>9</th>\n",
       "      <td>8</td>\n",
       "      <td>24</td>\n",
       "      <td>8_well_damn_good_ahem</td>\n",
       "      <td>[well, damn, good, ahem, change, not, , , , ]</td>\n",
       "      <td>[ #ahem# we're not all bad 😜,  Classic FB 🤦‍♀️...</td>\n",
       "    </tr>\n",
       "    <tr>\n",
       "      <th>10</th>\n",
       "      <td>9</td>\n",
       "      <td>24</td>\n",
       "      <td>9_bella_zoe_rebecca_kate</td>\n",
       "      <td>[bella, zoe, rebecca, kate, zoes, her, amy, sa...</td>\n",
       "      <td>[ I don’t know who Zoe is but I love her,  Som...</td>\n",
       "    </tr>\n",
       "    <tr>\n",
       "      <th>11</th>\n",
       "      <td>10</td>\n",
       "      <td>21</td>\n",
       "      <td>10_debate_children_unpopular_disagree</td>\n",
       "      <td>[debate, children, unpopular, disagree, agree,...</td>\n",
       "      <td>[ This will make me unpopular with this group ...</td>\n",
       "    </tr>\n",
       "    <tr>\n",
       "      <th>12</th>\n",
       "      <td>11</td>\n",
       "      <td>21</td>\n",
       "      <td>11_council_submit_organised_honourable</td>\n",
       "      <td>[council, submit, organised, honourable, messa...</td>\n",
       "      <td>[ For reference this method may be preferable ...</td>\n",
       "    </tr>\n",
       "    <tr>\n",
       "      <th>13</th>\n",
       "      <td>12</td>\n",
       "      <td>16</td>\n",
       "      <td>12_uklinkedincominseankillick9255bb6b_hovegovu...</td>\n",
       "      <td>[uklinkedincominseankillick9255bb6b, hovegovuk...</td>\n",
       "      <td>[ https //www.brighton hove.gov.uk/council and...</td>\n",
       "    </tr>\n",
       "    <tr>\n",
       "      <th>14</th>\n",
       "      <td>13</td>\n",
       "      <td>15</td>\n",
       "      <td>13_pinned_boland_tony_message</td>\n",
       "      <td>[pinned, boland, tony, message, ruth, alex, be...</td>\n",
       "      <td>[ Tony boland also speaking so much sense!,  ~...</td>\n",
       "    </tr>\n",
       "    <tr>\n",
       "      <th>15</th>\n",
       "      <td>14</td>\n",
       "      <td>15</td>\n",
       "      <td>14_stanfords_stanford_juniors_junior</td>\n",
       "      <td>[stanfords, stanford, juniors, junior, schools...</td>\n",
       "      <td>[ One at Stanford infants,  One at Stanford In...</td>\n",
       "    </tr>\n",
       "    <tr>\n",
       "      <th>16</th>\n",
       "      <td>15</td>\n",
       "      <td>14</td>\n",
       "      <td>15_councillor_councillors_complaint_council</td>\n",
       "      <td>[councillor, councillors, complaint, council, ...</td>\n",
       "      <td>[ A complaint can also be made to the Labour P...</td>\n",
       "    </tr>\n",
       "    <tr>\n",
       "      <th>17</th>\n",
       "      <td>16</td>\n",
       "      <td>11</td>\n",
       "      <td>16_proposals_proposing_discussing_engage</td>\n",
       "      <td>[proposals, proposing, discussing, engage, eng...</td>\n",
       "      <td>[ Yes. Don't want to start sounding like consp...</td>\n",
       "    </tr>\n",
       "    <tr>\n",
       "      <th>18</th>\n",
       "      <td>17</td>\n",
       "      <td>11</td>\n",
       "      <td>17_447917690579_447833676761_447990972401_4478...</td>\n",
       "      <td>[447917690579, 447833676761, 447990972401, 447...</td>\n",
       "      <td>[ @447917690579   I can’t make a selection! Ju...</td>\n",
       "    </tr>\n",
       "  </tbody>\n",
       "</table>\n",
       "</div>"
      ],
      "text/plain": [
       "    Topic  Count                                               Name  \\\n",
       "0      -1    325            -1_consultation_council_meeting_process   \n",
       "1       0    273                 0_catchment_council_policy_schools   \n",
       "2       1     34                     1_adam_adams_thankyou_thankful   \n",
       "3       2     32                                 2_same_too_me_here   \n",
       "4       3     31             3_petition_petitions_signatures_signed   \n",
       "5       4     31                        4_group_meet_joined_working   \n",
       "6       5     30                5_login_password_account_registered   \n",
       "7       6     28             6_governor_resigned_resignation_deputy   \n",
       "8       7     27             7_survey_issues_initiatives_contribute   \n",
       "9       8     24                              8_well_damn_good_ahem   \n",
       "10      9     24                           9_bella_zoe_rebecca_kate   \n",
       "11     10     21              10_debate_children_unpopular_disagree   \n",
       "12     11     21             11_council_submit_organised_honourable   \n",
       "13     12     16  12_uklinkedincominseankillick9255bb6b_hovegovu...   \n",
       "14     13     15                      13_pinned_boland_tony_message   \n",
       "15     14     15               14_stanfords_stanford_juniors_junior   \n",
       "16     15     14        15_councillor_councillors_complaint_council   \n",
       "17     16     11           16_proposals_proposing_discussing_engage   \n",
       "18     17     11  17_447917690579_447833676761_447990972401_4478...   \n",
       "\n",
       "                                       Representation  \\\n",
       "0   [consultation, council, meeting, process, evid...   \n",
       "1   [catchment, council, policy, schools, longhill...   \n",
       "2   [adam, adams, thankyou, thankful, thanks, supe...   \n",
       "3   [same, too, me, here, im, hear, agreed, agree,...   \n",
       "4   [petition, petitions, signatures, signed, sign...   \n",
       "5   [group, meet, joined, working, admins, coordin...   \n",
       "6   [login, password, account, registered, registr...   \n",
       "7   [governor, resigned, resignation, deputy, gov,...   \n",
       "8   [survey, issues, initiatives, contribute, peti...   \n",
       "9       [well, damn, good, ahem, change, not, , , , ]   \n",
       "10  [bella, zoe, rebecca, kate, zoes, her, amy, sa...   \n",
       "11  [debate, children, unpopular, disagree, agree,...   \n",
       "12  [council, submit, organised, honourable, messa...   \n",
       "13  [uklinkedincominseankillick9255bb6b, hovegovuk...   \n",
       "14  [pinned, boland, tony, message, ruth, alex, be...   \n",
       "15  [stanfords, stanford, juniors, junior, schools...   \n",
       "16  [councillor, councillors, complaint, council, ...   \n",
       "17  [proposals, proposing, discussing, engage, eng...   \n",
       "18  [447917690579, 447833676761, 447990972401, 447...   \n",
       "\n",
       "                                  Representative_Docs  \n",
       "0   [ Is there an option for us to do a “free scop...  \n",
       "1   [ Is Cllr Taylor actually on record making pro...  \n",
       "2   [ Incredible Adam, thank you for your work on ...  \n",
       "3                     [ Me too,  Same here!,  Me too]  \n",
       "4   [ Feels like this petition is destined to fail...  \n",
       "5   [ Hi All   we have 18 folks who say they would...  \n",
       "6   [ It seemed to be different to my normal BH on...  \n",
       "7   [ He was a governor until just 3 weeks ago too...  \n",
       "8   [ Just to add too please do complete the surve...  \n",
       "9   [ #ahem# we're not all bad 😜,  Classic FB 🤦‍♀️...  \n",
       "10  [ I don’t know who Zoe is but I love her,  Som...  \n",
       "11  [ This will make me unpopular with this group ...  \n",
       "12  [ For reference this method may be preferable ...  \n",
       "13  [ https //www.brighton hove.gov.uk/council and...  \n",
       "14  [ Tony boland also speaking so much sense!,  ~...  \n",
       "15  [ One at Stanford infants,  One at Stanford In...  \n",
       "16  [ A complaint can also be made to the Labour P...  \n",
       "17  [ Yes. Don't want to start sounding like consp...  \n",
       "18  [ @447917690579   I can’t make a selection! Ju...  "
      ]
     },
     "execution_count": 9,
     "metadata": {},
     "output_type": "execute_result"
    }
   ],
   "source": [
    "# this controls the representative label used for the topic\n",
    "representation_model = KeyBERTInspired(top_n_words=10)\n",
    "\n",
    "# this allows a fixed seed for reproducibility\n",
    "umap = UMAP(n_neighbors=15,\n",
    "            n_components=5,\n",
    "            min_dist=0.0,\n",
    "            low_memory=False,\n",
    "            random_state=1337)\n",
    "\n",
    "model = BERTopic(umap_model=umap, representation_model=representation_model)\n",
    "topics, probs = model.fit_transform(df_messages.Message)\n",
    "topic_info = model.get_topic_info()\n",
    "topic_info"
   ]
  },
  {
   "cell_type": "code",
   "execution_count": 10,
   "metadata": {},
   "outputs": [],
   "source": [
    "# save the topics to the dataframe\n",
    "df_messages['topic'] = topics"
   ]
  },
  {
   "cell_type": "markdown",
   "metadata": {},
   "source": [
    "Visualise the most common topics - barchart shows top 12 topics, and the words most frequently associated with them."
   ]
  },
  {
   "cell_type": "code",
   "execution_count": 11,
   "metadata": {},
   "outputs": [
    {
     "data": {
      "application/vnd.plotly.v1+json": {
       "config": {
        "plotlyServerURL": "https://plot.ly"
       },
       "data": [
        {
         "marker": {
          "color": "#D55E00"
         },
         "orientation": "h",
         "type": "bar",
         "x": [
          0.26750198006629944,
          0.27552688121795654,
          0.2889057397842407,
          0.30365511775016785,
          0.33059242367744446
         ],
         "xaxis": "x",
         "y": [
          "longhill  ",
          "schools  ",
          "policy  ",
          "council  ",
          "catchment  "
         ],
         "yaxis": "y"
        },
        {
         "marker": {
          "color": "#0072B2"
         },
         "orientation": "h",
         "type": "bar",
         "x": [
          0.3246934115886688,
          0.3546713590621948,
          0.38668715953826904,
          0.4384094178676605,
          0.6336865425109863
         ],
         "xaxis": "x2",
         "y": [
          "thanks  ",
          "thankful  ",
          "thankyou  ",
          "adams  ",
          "adam  "
         ],
         "yaxis": "y2"
        },
        {
         "marker": {
          "color": "#CC79A7"
         },
         "orientation": "h",
         "type": "bar",
         "x": [
          0.36053428053855896,
          0.39704158902168274,
          0.4496168792247772,
          0.5182062983512878,
          0.7024053335189819
         ],
         "xaxis": "x3",
         "y": [
          "im  ",
          "here  ",
          "me  ",
          "too  ",
          "same  "
         ],
         "yaxis": "y3"
        },
        {
         "marker": {
          "color": "#E69F00"
         },
         "orientation": "h",
         "type": "bar",
         "x": [
          0.4705599546432495,
          0.477053165435791,
          0.4838831424713135,
          0.6446636319160461,
          0.7130342721939087
         ],
         "xaxis": "x4",
         "y": [
          "signature  ",
          "signed  ",
          "signatures  ",
          "petitions  ",
          "petition  "
         ],
         "yaxis": "y4"
        },
        {
         "marker": {
          "color": "#56B4E9"
         },
         "orientation": "h",
         "type": "bar",
         "x": [
          0.3293180763721466,
          0.35193249583244324,
          0.45562636852264404,
          0.473154217004776,
          0.5148272514343262
         ],
         "xaxis": "x5",
         "y": [
          "admins  ",
          "working  ",
          "joined  ",
          "meet  ",
          "group  "
         ],
         "yaxis": "y5"
        },
        {
         "marker": {
          "color": "#009E73"
         },
         "orientation": "h",
         "type": "bar",
         "x": [
          0.41352614760398865,
          0.4167041778564453,
          0.41906502842903137,
          0.44207143783569336,
          0.5305548310279846
         ],
         "xaxis": "x6",
         "y": [
          "registration  ",
          "registered  ",
          "account  ",
          "password  ",
          "login  "
         ],
         "yaxis": "y6"
        },
        {
         "marker": {
          "color": "#F0E442"
         },
         "orientation": "h",
         "type": "bar",
         "x": [
          0.3204062879085541,
          0.3648606836795807,
          0.376062273979187,
          0.4125772714614868,
          0.5389281511306763
         ],
         "xaxis": "x7",
         "y": [
          "gov  ",
          "deputy  ",
          "resignation  ",
          "resigned  ",
          "governor  "
         ],
         "yaxis": "y7"
        },
        {
         "marker": {
          "color": "#D55E00"
         },
         "orientation": "h",
         "type": "bar",
         "x": [
          0.29401084780693054,
          0.3144392669200897,
          0.3593558073043823,
          0.36190810799598694,
          0.4676230251789093
         ],
         "xaxis": "x8",
         "y": [
          "petition  ",
          "contribute  ",
          "initiatives  ",
          "issues  ",
          "survey  "
         ],
         "yaxis": "y8"
        },
        {
         "marker": {
          "color": "#0072B2"
         },
         "orientation": "h",
         "type": "bar",
         "x": [
          0.3550918698310852,
          0.3608592450618744,
          0.42242687940597534,
          0.4707099497318268,
          0.48321476578712463
         ],
         "xaxis": "x9",
         "y": [
          "change  ",
          "ahem  ",
          "good  ",
          "damn  ",
          "well  "
         ],
         "yaxis": "y9"
        },
        {
         "marker": {
          "color": "#CC79A7"
         },
         "orientation": "h",
         "type": "bar",
         "x": [
          0.356108158826828,
          0.370248407125473,
          0.3729315400123596,
          0.4004873037338257,
          0.5340232849121094
         ],
         "xaxis": "x10",
         "y": [
          "zoes  ",
          "kate  ",
          "rebecca  ",
          "zoe  ",
          "bella  "
         ],
         "yaxis": "y10"
        },
        {
         "marker": {
          "color": "#E69F00"
         },
         "orientation": "h",
         "type": "bar",
         "x": [
          0.2586703598499298,
          0.263969749212265,
          0.27218008041381836,
          0.33210986852645874,
          0.33556628227233887
         ],
         "xaxis": "x11",
         "y": [
          "agree  ",
          "disagree  ",
          "unpopular  ",
          "children  ",
          "debate  "
         ],
         "yaxis": "y11"
        },
        {
         "marker": {
          "color": "#56B4E9"
         },
         "orientation": "h",
         "type": "bar",
         "x": [
          0.23070737719535828,
          0.23664653301239014,
          0.2516956627368927,
          0.30611133575439453,
          0.626849353313446
         ],
         "xaxis": "x12",
         "y": [
          "message  ",
          "honourable  ",
          "organised  ",
          "submit  ",
          "council  "
         ],
         "yaxis": "y12"
        }
       ],
       "layout": {
        "annotations": [
         {
          "font": {
           "size": 16
          },
          "showarrow": false,
          "text": "Topic 0",
          "x": 0.0875,
          "xanchor": "center",
          "xref": "paper",
          "y": 1,
          "yanchor": "bottom",
          "yref": "paper"
         },
         {
          "font": {
           "size": 16
          },
          "showarrow": false,
          "text": "Topic 1",
          "x": 0.36250000000000004,
          "xanchor": "center",
          "xref": "paper",
          "y": 1,
          "yanchor": "bottom",
          "yref": "paper"
         },
         {
          "font": {
           "size": 16
          },
          "showarrow": false,
          "text": "Topic 2",
          "x": 0.6375000000000001,
          "xanchor": "center",
          "xref": "paper",
          "y": 1,
          "yanchor": "bottom",
          "yref": "paper"
         },
         {
          "font": {
           "size": 16
          },
          "showarrow": false,
          "text": "Topic 3",
          "x": 0.9125,
          "xanchor": "center",
          "xref": "paper",
          "y": 1,
          "yanchor": "bottom",
          "yref": "paper"
         },
         {
          "font": {
           "size": 16
          },
          "showarrow": false,
          "text": "Topic 4",
          "x": 0.0875,
          "xanchor": "center",
          "xref": "paper",
          "y": 0.6222222222222222,
          "yanchor": "bottom",
          "yref": "paper"
         },
         {
          "font": {
           "size": 16
          },
          "showarrow": false,
          "text": "Topic 5",
          "x": 0.36250000000000004,
          "xanchor": "center",
          "xref": "paper",
          "y": 0.6222222222222222,
          "yanchor": "bottom",
          "yref": "paper"
         },
         {
          "font": {
           "size": 16
          },
          "showarrow": false,
          "text": "Topic 6",
          "x": 0.6375000000000001,
          "xanchor": "center",
          "xref": "paper",
          "y": 0.6222222222222222,
          "yanchor": "bottom",
          "yref": "paper"
         },
         {
          "font": {
           "size": 16
          },
          "showarrow": false,
          "text": "Topic 7",
          "x": 0.9125,
          "xanchor": "center",
          "xref": "paper",
          "y": 0.6222222222222222,
          "yanchor": "bottom",
          "yref": "paper"
         },
         {
          "font": {
           "size": 16
          },
          "showarrow": false,
          "text": "Topic 8",
          "x": 0.0875,
          "xanchor": "center",
          "xref": "paper",
          "y": 0.24444444444444446,
          "yanchor": "bottom",
          "yref": "paper"
         },
         {
          "font": {
           "size": 16
          },
          "showarrow": false,
          "text": "Topic 9",
          "x": 0.36250000000000004,
          "xanchor": "center",
          "xref": "paper",
          "y": 0.24444444444444446,
          "yanchor": "bottom",
          "yref": "paper"
         },
         {
          "font": {
           "size": 16
          },
          "showarrow": false,
          "text": "Topic 10",
          "x": 0.6375000000000001,
          "xanchor": "center",
          "xref": "paper",
          "y": 0.24444444444444446,
          "yanchor": "bottom",
          "yref": "paper"
         },
         {
          "font": {
           "size": 16
          },
          "showarrow": false,
          "text": "Topic 11",
          "x": 0.9125,
          "xanchor": "center",
          "xref": "paper",
          "y": 0.24444444444444446,
          "yanchor": "bottom",
          "yref": "paper"
         }
        ],
        "height": 750,
        "hoverlabel": {
         "bgcolor": "white",
         "font": {
          "family": "Rockwell",
          "size": 16
         }
        },
        "showlegend": false,
        "template": {
         "data": {
          "bar": [
           {
            "error_x": {
             "color": "#2a3f5f"
            },
            "error_y": {
             "color": "#2a3f5f"
            },
            "marker": {
             "line": {
              "color": "white",
              "width": 0.5
             },
             "pattern": {
              "fillmode": "overlay",
              "size": 10,
              "solidity": 0.2
             }
            },
            "type": "bar"
           }
          ],
          "barpolar": [
           {
            "marker": {
             "line": {
              "color": "white",
              "width": 0.5
             },
             "pattern": {
              "fillmode": "overlay",
              "size": 10,
              "solidity": 0.2
             }
            },
            "type": "barpolar"
           }
          ],
          "carpet": [
           {
            "aaxis": {
             "endlinecolor": "#2a3f5f",
             "gridcolor": "#C8D4E3",
             "linecolor": "#C8D4E3",
             "minorgridcolor": "#C8D4E3",
             "startlinecolor": "#2a3f5f"
            },
            "baxis": {
             "endlinecolor": "#2a3f5f",
             "gridcolor": "#C8D4E3",
             "linecolor": "#C8D4E3",
             "minorgridcolor": "#C8D4E3",
             "startlinecolor": "#2a3f5f"
            },
            "type": "carpet"
           }
          ],
          "choropleth": [
           {
            "colorbar": {
             "outlinewidth": 0,
             "ticks": ""
            },
            "type": "choropleth"
           }
          ],
          "contour": [
           {
            "colorbar": {
             "outlinewidth": 0,
             "ticks": ""
            },
            "colorscale": [
             [
              0,
              "#0d0887"
             ],
             [
              0.1111111111111111,
              "#46039f"
             ],
             [
              0.2222222222222222,
              "#7201a8"
             ],
             [
              0.3333333333333333,
              "#9c179e"
             ],
             [
              0.4444444444444444,
              "#bd3786"
             ],
             [
              0.5555555555555556,
              "#d8576b"
             ],
             [
              0.6666666666666666,
              "#ed7953"
             ],
             [
              0.7777777777777778,
              "#fb9f3a"
             ],
             [
              0.8888888888888888,
              "#fdca26"
             ],
             [
              1,
              "#f0f921"
             ]
            ],
            "type": "contour"
           }
          ],
          "contourcarpet": [
           {
            "colorbar": {
             "outlinewidth": 0,
             "ticks": ""
            },
            "type": "contourcarpet"
           }
          ],
          "heatmap": [
           {
            "colorbar": {
             "outlinewidth": 0,
             "ticks": ""
            },
            "colorscale": [
             [
              0,
              "#0d0887"
             ],
             [
              0.1111111111111111,
              "#46039f"
             ],
             [
              0.2222222222222222,
              "#7201a8"
             ],
             [
              0.3333333333333333,
              "#9c179e"
             ],
             [
              0.4444444444444444,
              "#bd3786"
             ],
             [
              0.5555555555555556,
              "#d8576b"
             ],
             [
              0.6666666666666666,
              "#ed7953"
             ],
             [
              0.7777777777777778,
              "#fb9f3a"
             ],
             [
              0.8888888888888888,
              "#fdca26"
             ],
             [
              1,
              "#f0f921"
             ]
            ],
            "type": "heatmap"
           }
          ],
          "heatmapgl": [
           {
            "colorbar": {
             "outlinewidth": 0,
             "ticks": ""
            },
            "colorscale": [
             [
              0,
              "#0d0887"
             ],
             [
              0.1111111111111111,
              "#46039f"
             ],
             [
              0.2222222222222222,
              "#7201a8"
             ],
             [
              0.3333333333333333,
              "#9c179e"
             ],
             [
              0.4444444444444444,
              "#bd3786"
             ],
             [
              0.5555555555555556,
              "#d8576b"
             ],
             [
              0.6666666666666666,
              "#ed7953"
             ],
             [
              0.7777777777777778,
              "#fb9f3a"
             ],
             [
              0.8888888888888888,
              "#fdca26"
             ],
             [
              1,
              "#f0f921"
             ]
            ],
            "type": "heatmapgl"
           }
          ],
          "histogram": [
           {
            "marker": {
             "pattern": {
              "fillmode": "overlay",
              "size": 10,
              "solidity": 0.2
             }
            },
            "type": "histogram"
           }
          ],
          "histogram2d": [
           {
            "colorbar": {
             "outlinewidth": 0,
             "ticks": ""
            },
            "colorscale": [
             [
              0,
              "#0d0887"
             ],
             [
              0.1111111111111111,
              "#46039f"
             ],
             [
              0.2222222222222222,
              "#7201a8"
             ],
             [
              0.3333333333333333,
              "#9c179e"
             ],
             [
              0.4444444444444444,
              "#bd3786"
             ],
             [
              0.5555555555555556,
              "#d8576b"
             ],
             [
              0.6666666666666666,
              "#ed7953"
             ],
             [
              0.7777777777777778,
              "#fb9f3a"
             ],
             [
              0.8888888888888888,
              "#fdca26"
             ],
             [
              1,
              "#f0f921"
             ]
            ],
            "type": "histogram2d"
           }
          ],
          "histogram2dcontour": [
           {
            "colorbar": {
             "outlinewidth": 0,
             "ticks": ""
            },
            "colorscale": [
             [
              0,
              "#0d0887"
             ],
             [
              0.1111111111111111,
              "#46039f"
             ],
             [
              0.2222222222222222,
              "#7201a8"
             ],
             [
              0.3333333333333333,
              "#9c179e"
             ],
             [
              0.4444444444444444,
              "#bd3786"
             ],
             [
              0.5555555555555556,
              "#d8576b"
             ],
             [
              0.6666666666666666,
              "#ed7953"
             ],
             [
              0.7777777777777778,
              "#fb9f3a"
             ],
             [
              0.8888888888888888,
              "#fdca26"
             ],
             [
              1,
              "#f0f921"
             ]
            ],
            "type": "histogram2dcontour"
           }
          ],
          "mesh3d": [
           {
            "colorbar": {
             "outlinewidth": 0,
             "ticks": ""
            },
            "type": "mesh3d"
           }
          ],
          "parcoords": [
           {
            "line": {
             "colorbar": {
              "outlinewidth": 0,
              "ticks": ""
             }
            },
            "type": "parcoords"
           }
          ],
          "pie": [
           {
            "automargin": true,
            "type": "pie"
           }
          ],
          "scatter": [
           {
            "fillpattern": {
             "fillmode": "overlay",
             "size": 10,
             "solidity": 0.2
            },
            "type": "scatter"
           }
          ],
          "scatter3d": [
           {
            "line": {
             "colorbar": {
              "outlinewidth": 0,
              "ticks": ""
             }
            },
            "marker": {
             "colorbar": {
              "outlinewidth": 0,
              "ticks": ""
             }
            },
            "type": "scatter3d"
           }
          ],
          "scattercarpet": [
           {
            "marker": {
             "colorbar": {
              "outlinewidth": 0,
              "ticks": ""
             }
            },
            "type": "scattercarpet"
           }
          ],
          "scattergeo": [
           {
            "marker": {
             "colorbar": {
              "outlinewidth": 0,
              "ticks": ""
             }
            },
            "type": "scattergeo"
           }
          ],
          "scattergl": [
           {
            "marker": {
             "colorbar": {
              "outlinewidth": 0,
              "ticks": ""
             }
            },
            "type": "scattergl"
           }
          ],
          "scattermapbox": [
           {
            "marker": {
             "colorbar": {
              "outlinewidth": 0,
              "ticks": ""
             }
            },
            "type": "scattermapbox"
           }
          ],
          "scatterpolar": [
           {
            "marker": {
             "colorbar": {
              "outlinewidth": 0,
              "ticks": ""
             }
            },
            "type": "scatterpolar"
           }
          ],
          "scatterpolargl": [
           {
            "marker": {
             "colorbar": {
              "outlinewidth": 0,
              "ticks": ""
             }
            },
            "type": "scatterpolargl"
           }
          ],
          "scatterternary": [
           {
            "marker": {
             "colorbar": {
              "outlinewidth": 0,
              "ticks": ""
             }
            },
            "type": "scatterternary"
           }
          ],
          "surface": [
           {
            "colorbar": {
             "outlinewidth": 0,
             "ticks": ""
            },
            "colorscale": [
             [
              0,
              "#0d0887"
             ],
             [
              0.1111111111111111,
              "#46039f"
             ],
             [
              0.2222222222222222,
              "#7201a8"
             ],
             [
              0.3333333333333333,
              "#9c179e"
             ],
             [
              0.4444444444444444,
              "#bd3786"
             ],
             [
              0.5555555555555556,
              "#d8576b"
             ],
             [
              0.6666666666666666,
              "#ed7953"
             ],
             [
              0.7777777777777778,
              "#fb9f3a"
             ],
             [
              0.8888888888888888,
              "#fdca26"
             ],
             [
              1,
              "#f0f921"
             ]
            ],
            "type": "surface"
           }
          ],
          "table": [
           {
            "cells": {
             "fill": {
              "color": "#EBF0F8"
             },
             "line": {
              "color": "white"
             }
            },
            "header": {
             "fill": {
              "color": "#C8D4E3"
             },
             "line": {
              "color": "white"
             }
            },
            "type": "table"
           }
          ]
         },
         "layout": {
          "annotationdefaults": {
           "arrowcolor": "#2a3f5f",
           "arrowhead": 0,
           "arrowwidth": 1
          },
          "autotypenumbers": "strict",
          "coloraxis": {
           "colorbar": {
            "outlinewidth": 0,
            "ticks": ""
           }
          },
          "colorscale": {
           "diverging": [
            [
             0,
             "#8e0152"
            ],
            [
             0.1,
             "#c51b7d"
            ],
            [
             0.2,
             "#de77ae"
            ],
            [
             0.3,
             "#f1b6da"
            ],
            [
             0.4,
             "#fde0ef"
            ],
            [
             0.5,
             "#f7f7f7"
            ],
            [
             0.6,
             "#e6f5d0"
            ],
            [
             0.7,
             "#b8e186"
            ],
            [
             0.8,
             "#7fbc41"
            ],
            [
             0.9,
             "#4d9221"
            ],
            [
             1,
             "#276419"
            ]
           ],
           "sequential": [
            [
             0,
             "#0d0887"
            ],
            [
             0.1111111111111111,
             "#46039f"
            ],
            [
             0.2222222222222222,
             "#7201a8"
            ],
            [
             0.3333333333333333,
             "#9c179e"
            ],
            [
             0.4444444444444444,
             "#bd3786"
            ],
            [
             0.5555555555555556,
             "#d8576b"
            ],
            [
             0.6666666666666666,
             "#ed7953"
            ],
            [
             0.7777777777777778,
             "#fb9f3a"
            ],
            [
             0.8888888888888888,
             "#fdca26"
            ],
            [
             1,
             "#f0f921"
            ]
           ],
           "sequentialminus": [
            [
             0,
             "#0d0887"
            ],
            [
             0.1111111111111111,
             "#46039f"
            ],
            [
             0.2222222222222222,
             "#7201a8"
            ],
            [
             0.3333333333333333,
             "#9c179e"
            ],
            [
             0.4444444444444444,
             "#bd3786"
            ],
            [
             0.5555555555555556,
             "#d8576b"
            ],
            [
             0.6666666666666666,
             "#ed7953"
            ],
            [
             0.7777777777777778,
             "#fb9f3a"
            ],
            [
             0.8888888888888888,
             "#fdca26"
            ],
            [
             1,
             "#f0f921"
            ]
           ]
          },
          "colorway": [
           "#636efa",
           "#EF553B",
           "#00cc96",
           "#ab63fa",
           "#FFA15A",
           "#19d3f3",
           "#FF6692",
           "#B6E880",
           "#FF97FF",
           "#FECB52"
          ],
          "font": {
           "color": "#2a3f5f"
          },
          "geo": {
           "bgcolor": "white",
           "lakecolor": "white",
           "landcolor": "white",
           "showlakes": true,
           "showland": true,
           "subunitcolor": "#C8D4E3"
          },
          "hoverlabel": {
           "align": "left"
          },
          "hovermode": "closest",
          "mapbox": {
           "style": "light"
          },
          "paper_bgcolor": "white",
          "plot_bgcolor": "white",
          "polar": {
           "angularaxis": {
            "gridcolor": "#EBF0F8",
            "linecolor": "#EBF0F8",
            "ticks": ""
           },
           "bgcolor": "white",
           "radialaxis": {
            "gridcolor": "#EBF0F8",
            "linecolor": "#EBF0F8",
            "ticks": ""
           }
          },
          "scene": {
           "xaxis": {
            "backgroundcolor": "white",
            "gridcolor": "#DFE8F3",
            "gridwidth": 2,
            "linecolor": "#EBF0F8",
            "showbackground": true,
            "ticks": "",
            "zerolinecolor": "#EBF0F8"
           },
           "yaxis": {
            "backgroundcolor": "white",
            "gridcolor": "#DFE8F3",
            "gridwidth": 2,
            "linecolor": "#EBF0F8",
            "showbackground": true,
            "ticks": "",
            "zerolinecolor": "#EBF0F8"
           },
           "zaxis": {
            "backgroundcolor": "white",
            "gridcolor": "#DFE8F3",
            "gridwidth": 2,
            "linecolor": "#EBF0F8",
            "showbackground": true,
            "ticks": "",
            "zerolinecolor": "#EBF0F8"
           }
          },
          "shapedefaults": {
           "line": {
            "color": "#2a3f5f"
           }
          },
          "ternary": {
           "aaxis": {
            "gridcolor": "#DFE8F3",
            "linecolor": "#A2B1C6",
            "ticks": ""
           },
           "baxis": {
            "gridcolor": "#DFE8F3",
            "linecolor": "#A2B1C6",
            "ticks": ""
           },
           "bgcolor": "white",
           "caxis": {
            "gridcolor": "#DFE8F3",
            "linecolor": "#A2B1C6",
            "ticks": ""
           }
          },
          "title": {
           "x": 0.05
          },
          "xaxis": {
           "automargin": true,
           "gridcolor": "#EBF0F8",
           "linecolor": "#EBF0F8",
           "ticks": "",
           "title": {
            "standoff": 15
           },
           "zerolinecolor": "#EBF0F8",
           "zerolinewidth": 2
          },
          "yaxis": {
           "automargin": true,
           "gridcolor": "#EBF0F8",
           "linecolor": "#EBF0F8",
           "ticks": "",
           "title": {
            "standoff": 15
           },
           "zerolinecolor": "#EBF0F8",
           "zerolinewidth": 2
          }
         }
        },
        "title": {
         "font": {
          "color": "Black",
          "size": 22
         },
         "text": "Most common topics in Whatsapp chat",
         "x": 0.5,
         "xanchor": "center",
         "yanchor": "top"
        },
        "width": 1000,
        "xaxis": {
         "anchor": "y",
         "domain": [
          0,
          0.175
         ],
         "showgrid": true
        },
        "xaxis10": {
         "anchor": "y10",
         "domain": [
          0.275,
          0.45
         ],
         "showgrid": true
        },
        "xaxis11": {
         "anchor": "y11",
         "domain": [
          0.55,
          0.7250000000000001
         ],
         "showgrid": true
        },
        "xaxis12": {
         "anchor": "y12",
         "domain": [
          0.825,
          1
         ],
         "showgrid": true
        },
        "xaxis2": {
         "anchor": "y2",
         "domain": [
          0.275,
          0.45
         ],
         "showgrid": true
        },
        "xaxis3": {
         "anchor": "y3",
         "domain": [
          0.55,
          0.7250000000000001
         ],
         "showgrid": true
        },
        "xaxis4": {
         "anchor": "y4",
         "domain": [
          0.825,
          1
         ],
         "showgrid": true
        },
        "xaxis5": {
         "anchor": "y5",
         "domain": [
          0,
          0.175
         ],
         "showgrid": true
        },
        "xaxis6": {
         "anchor": "y6",
         "domain": [
          0.275,
          0.45
         ],
         "showgrid": true
        },
        "xaxis7": {
         "anchor": "y7",
         "domain": [
          0.55,
          0.7250000000000001
         ],
         "showgrid": true
        },
        "xaxis8": {
         "anchor": "y8",
         "domain": [
          0.825,
          1
         ],
         "showgrid": true
        },
        "xaxis9": {
         "anchor": "y9",
         "domain": [
          0,
          0.175
         ],
         "showgrid": true
        },
        "yaxis": {
         "anchor": "x",
         "domain": [
          0.7555555555555555,
          1
         ],
         "showgrid": true
        },
        "yaxis10": {
         "anchor": "x10",
         "domain": [
          0,
          0.24444444444444446
         ],
         "showgrid": true
        },
        "yaxis11": {
         "anchor": "x11",
         "domain": [
          0,
          0.24444444444444446
         ],
         "showgrid": true
        },
        "yaxis12": {
         "anchor": "x12",
         "domain": [
          0,
          0.24444444444444446
         ],
         "showgrid": true
        },
        "yaxis2": {
         "anchor": "x2",
         "domain": [
          0.7555555555555555,
          1
         ],
         "showgrid": true
        },
        "yaxis3": {
         "anchor": "x3",
         "domain": [
          0.7555555555555555,
          1
         ],
         "showgrid": true
        },
        "yaxis4": {
         "anchor": "x4",
         "domain": [
          0.7555555555555555,
          1
         ],
         "showgrid": true
        },
        "yaxis5": {
         "anchor": "x5",
         "domain": [
          0.37777777777777777,
          0.6222222222222222
         ],
         "showgrid": true
        },
        "yaxis6": {
         "anchor": "x6",
         "domain": [
          0.37777777777777777,
          0.6222222222222222
         ],
         "showgrid": true
        },
        "yaxis7": {
         "anchor": "x7",
         "domain": [
          0.37777777777777777,
          0.6222222222222222
         ],
         "showgrid": true
        },
        "yaxis8": {
         "anchor": "x8",
         "domain": [
          0.37777777777777777,
          0.6222222222222222
         ],
         "showgrid": true
        },
        "yaxis9": {
         "anchor": "x9",
         "domain": [
          0,
          0.24444444444444446
         ],
         "showgrid": true
        }
       }
      }
     },
     "metadata": {},
     "output_type": "display_data"
    }
   ],
   "source": [
    "fig1 = model.visualize_barchart(top_n_topics=12, title='Most common topics in Whatsapp chat')\n",
    "fig1.write_html('outputs/whatsapp_common_topics.html')\n",
    "fig1.show()"
   ]
  },
  {
   "cell_type": "code",
   "execution_count": 12,
   "metadata": {},
   "outputs": [],
   "source": [
    "new_topic_labels = ['other',\n",
    " 'council changing catchment',\n",
    " 'thanks Adam',\n",
    " 'agreement sentiment',\n",
    " 'petition',\n",
    " 'working group meet',\n",
    " 'password login',\n",
    " 'governor resigned',\n",
    " 'survey of issues',\n",
    " 'well damn sentiment',\n",
    " 'Bella Sankey',\n",
    " 'class debate',\n",
    " 'complaint to council',\n",
    " 'websites',\n",
    " 'Tony Boland',\n",
    " 'Stanford schools',\n",
    " 'councillor complaint',\n",
    " 'council proposals',\n",
    " 'phone numbers']\n",
    "\n",
    "topic_labels_dict = {i - 1: label for i, label in enumerate(new_topic_labels)}\n",
    "\n",
    "model.set_topic_labels(new_topic_labels)\n",
    "# model.custom_labels_"
   ]
  },
  {
   "cell_type": "code",
   "execution_count": 13,
   "metadata": {},
   "outputs": [
    {
     "data": {
      "text/html": [
       "<div>\n",
       "<style scoped>\n",
       "    .dataframe tbody tr th:only-of-type {\n",
       "        vertical-align: middle;\n",
       "    }\n",
       "\n",
       "    .dataframe tbody tr th {\n",
       "        vertical-align: top;\n",
       "    }\n",
       "\n",
       "    .dataframe thead th {\n",
       "        text-align: right;\n",
       "    }\n",
       "</style>\n",
       "<table border=\"1\" class=\"dataframe\">\n",
       "  <thead>\n",
       "    <tr style=\"text-align: right;\">\n",
       "      <th></th>\n",
       "      <th>Topic</th>\n",
       "      <th>Count</th>\n",
       "      <th>Name</th>\n",
       "      <th>Representative_Docs</th>\n",
       "    </tr>\n",
       "  </thead>\n",
       "  <tbody>\n",
       "    <tr>\n",
       "      <th>0</th>\n",
       "      <td>-1</td>\n",
       "      <td>325</td>\n",
       "      <td>other</td>\n",
       "      <td>[ Is there an option for us to do a “free scop...</td>\n",
       "    </tr>\n",
       "    <tr>\n",
       "      <th>1</th>\n",
       "      <td>0</td>\n",
       "      <td>273</td>\n",
       "      <td>council changing catchment</td>\n",
       "      <td>[ Is Cllr Taylor actually on record making pro...</td>\n",
       "    </tr>\n",
       "    <tr>\n",
       "      <th>2</th>\n",
       "      <td>1</td>\n",
       "      <td>34</td>\n",
       "      <td>thanks Adam</td>\n",
       "      <td>[ Incredible Adam, thank you for your work on ...</td>\n",
       "    </tr>\n",
       "    <tr>\n",
       "      <th>3</th>\n",
       "      <td>2</td>\n",
       "      <td>32</td>\n",
       "      <td>agreement sentiment</td>\n",
       "      <td>[ Me too,  Same here!,  Me too]</td>\n",
       "    </tr>\n",
       "    <tr>\n",
       "      <th>4</th>\n",
       "      <td>3</td>\n",
       "      <td>31</td>\n",
       "      <td>petition</td>\n",
       "      <td>[ Feels like this petition is destined to fail...</td>\n",
       "    </tr>\n",
       "    <tr>\n",
       "      <th>5</th>\n",
       "      <td>4</td>\n",
       "      <td>31</td>\n",
       "      <td>working group meet</td>\n",
       "      <td>[ Hi All   we have 18 folks who say they would...</td>\n",
       "    </tr>\n",
       "    <tr>\n",
       "      <th>6</th>\n",
       "      <td>5</td>\n",
       "      <td>30</td>\n",
       "      <td>password login</td>\n",
       "      <td>[ It seemed to be different to my normal BH on...</td>\n",
       "    </tr>\n",
       "    <tr>\n",
       "      <th>7</th>\n",
       "      <td>6</td>\n",
       "      <td>28</td>\n",
       "      <td>governor resigned</td>\n",
       "      <td>[ He was a governor until just 3 weeks ago too...</td>\n",
       "    </tr>\n",
       "    <tr>\n",
       "      <th>8</th>\n",
       "      <td>7</td>\n",
       "      <td>27</td>\n",
       "      <td>survey of issues</td>\n",
       "      <td>[ Just to add too please do complete the surve...</td>\n",
       "    </tr>\n",
       "    <tr>\n",
       "      <th>9</th>\n",
       "      <td>8</td>\n",
       "      <td>24</td>\n",
       "      <td>well damn sentiment</td>\n",
       "      <td>[ #ahem# we're not all bad 😜,  Classic FB 🤦‍♀️...</td>\n",
       "    </tr>\n",
       "    <tr>\n",
       "      <th>10</th>\n",
       "      <td>9</td>\n",
       "      <td>24</td>\n",
       "      <td>Bella Sankey</td>\n",
       "      <td>[ I don’t know who Zoe is but I love her,  Som...</td>\n",
       "    </tr>\n",
       "    <tr>\n",
       "      <th>11</th>\n",
       "      <td>10</td>\n",
       "      <td>21</td>\n",
       "      <td>class debate</td>\n",
       "      <td>[ This will make me unpopular with this group ...</td>\n",
       "    </tr>\n",
       "    <tr>\n",
       "      <th>12</th>\n",
       "      <td>11</td>\n",
       "      <td>21</td>\n",
       "      <td>complaint to council</td>\n",
       "      <td>[ For reference this method may be preferable ...</td>\n",
       "    </tr>\n",
       "    <tr>\n",
       "      <th>13</th>\n",
       "      <td>12</td>\n",
       "      <td>16</td>\n",
       "      <td>websites</td>\n",
       "      <td>[ https //www.brighton hove.gov.uk/council and...</td>\n",
       "    </tr>\n",
       "    <tr>\n",
       "      <th>14</th>\n",
       "      <td>13</td>\n",
       "      <td>15</td>\n",
       "      <td>Tony Boland</td>\n",
       "      <td>[ Tony boland also speaking so much sense!,  ~...</td>\n",
       "    </tr>\n",
       "    <tr>\n",
       "      <th>15</th>\n",
       "      <td>14</td>\n",
       "      <td>15</td>\n",
       "      <td>Stanford schools</td>\n",
       "      <td>[ One at Stanford infants,  One at Stanford In...</td>\n",
       "    </tr>\n",
       "    <tr>\n",
       "      <th>16</th>\n",
       "      <td>15</td>\n",
       "      <td>14</td>\n",
       "      <td>councillor complaint</td>\n",
       "      <td>[ A complaint can also be made to the Labour P...</td>\n",
       "    </tr>\n",
       "    <tr>\n",
       "      <th>17</th>\n",
       "      <td>16</td>\n",
       "      <td>11</td>\n",
       "      <td>council proposals</td>\n",
       "      <td>[ Yes. Don't want to start sounding like consp...</td>\n",
       "    </tr>\n",
       "    <tr>\n",
       "      <th>18</th>\n",
       "      <td>17</td>\n",
       "      <td>11</td>\n",
       "      <td>phone numbers</td>\n",
       "      <td>[ @447917690579   I can’t make a selection! Ju...</td>\n",
       "    </tr>\n",
       "  </tbody>\n",
       "</table>\n",
       "</div>"
      ],
      "text/plain": [
       "    Topic  Count                        Name  \\\n",
       "0      -1    325                       other   \n",
       "1       0    273  council changing catchment   \n",
       "2       1     34                 thanks Adam   \n",
       "3       2     32         agreement sentiment   \n",
       "4       3     31                    petition   \n",
       "5       4     31          working group meet   \n",
       "6       5     30              password login   \n",
       "7       6     28           governor resigned   \n",
       "8       7     27            survey of issues   \n",
       "9       8     24         well damn sentiment   \n",
       "10      9     24                Bella Sankey   \n",
       "11     10     21                class debate   \n",
       "12     11     21        complaint to council   \n",
       "13     12     16                    websites   \n",
       "14     13     15                 Tony Boland   \n",
       "15     14     15            Stanford schools   \n",
       "16     15     14        councillor complaint   \n",
       "17     16     11           council proposals   \n",
       "18     17     11               phone numbers   \n",
       "\n",
       "                                  Representative_Docs  \n",
       "0   [ Is there an option for us to do a “free scop...  \n",
       "1   [ Is Cllr Taylor actually on record making pro...  \n",
       "2   [ Incredible Adam, thank you for your work on ...  \n",
       "3                     [ Me too,  Same here!,  Me too]  \n",
       "4   [ Feels like this petition is destined to fail...  \n",
       "5   [ Hi All   we have 18 folks who say they would...  \n",
       "6   [ It seemed to be different to my normal BH on...  \n",
       "7   [ He was a governor until just 3 weeks ago too...  \n",
       "8   [ Just to add too please do complete the surve...  \n",
       "9   [ #ahem# we're not all bad 😜,  Classic FB 🤦‍♀️...  \n",
       "10  [ I don’t know who Zoe is but I love her,  Som...  \n",
       "11  [ This will make me unpopular with this group ...  \n",
       "12  [ For reference this method may be preferable ...  \n",
       "13  [ https //www.brighton hove.gov.uk/council and...  \n",
       "14  [ Tony boland also speaking so much sense!,  ~...  \n",
       "15  [ One at Stanford infants,  One at Stanford In...  \n",
       "16  [ A complaint can also be made to the Labour P...  \n",
       "17  [ Yes. Don't want to start sounding like consp...  \n",
       "18  [ @447917690579   I can’t make a selection! Ju...  "
      ]
     },
     "execution_count": 13,
     "metadata": {},
     "output_type": "execute_result"
    }
   ],
   "source": [
    "topic_table = topic_info[['Topic', 'Count', 'Name', 'Representative_Docs']]\n",
    "topic_table['Name'] = model.custom_labels_\n",
    "topic_table"
   ]
  },
  {
   "cell_type": "markdown",
   "metadata": {},
   "source": [
    "Visualise how the topics vary over time"
   ]
  },
  {
   "cell_type": "code",
   "execution_count": 14,
   "metadata": {},
   "outputs": [
    {
     "data": {
      "application/vnd.plotly.v1+json": {
       "config": {
        "plotlyServerURL": "https://plot.ly"
       },
       "data": [
        {
         "hoverinfo": "text",
         "hovertext": [
          "<b>Topic 0</b><br>Words: catchment, council, schools, longhill, children",
          "<b>Topic 0</b><br>Words: catchment, council, policy, schools, brighton",
          "<b>Topic 0</b><br>Words: council, schools, funding, education, school",
          "<b>Topic 0</b><br>Words: schools, council, fsm, school, education",
          "<b>Topic 0</b><br>Words: schools, catchment, council, policy, school",
          "<b>Topic 0</b><br>Words: longhill, bus, schools, catchments, catchment",
          "<b>Topic 0</b><br>Words: buses, journeys, council, bus, transport"
         ],
         "marker": {
          "color": "#E69F00"
         },
         "mode": "lines",
         "name": "council changing catchment",
         "type": "scatter",
         "x": [
          "2024-10-10T00:00:00",
          "2024-10-11T00:00:00",
          "2024-10-12T00:00:00",
          "2024-10-13T00:00:00",
          "2024-10-14T00:00:00",
          "2024-10-15T00:00:00",
          "2024-10-16T00:00:00"
         ],
         "y": [
          35,
          83,
          19,
          8,
          80,
          32,
          16
         ]
        },
        {
         "hoverinfo": "text",
         "hovertext": [
          "<b>Topic 1</b><br>Words: adam, adams, thankyou, thanks, thankful",
          "<b>Topic 1</b><br>Words: thankyou, thanks, adam, amazing, thank",
          "<b>Topic 1</b><br>Words: adam, thankful, thankyou, adams, superb",
          "<b>Topic 1</b><br>Words: thankyou, thanks, thank, amazing, thankful",
          "<b>Topic 1</b><br>Words: thanks, thank, thankyou, kirsty, amazing",
          "<b>Topic 1</b><br>Words: thankyou, thank, brilliant, thanks, amazing"
         ],
         "marker": {
          "color": "#56B4E9"
         },
         "mode": "lines",
         "name": "thanks Adam",
         "type": "scatter",
         "x": [
          "2024-10-10T00:00:00",
          "2024-10-11T00:00:00",
          "2024-10-12T00:00:00",
          "2024-10-13T00:00:00",
          "2024-10-14T00:00:00",
          "2024-10-15T00:00:00"
         ],
         "y": [
          12,
          7,
          8,
          2,
          2,
          3
         ]
        },
        {
         "hoverinfo": "text",
         "hovertext": [
          "<b>Topic 2</b><br>Words: same, too, agree, agreed, me",
          "<b>Topic 2</b><br>Words: same, me, agree, too, im",
          "<b>Topic 2</b><br>Words: here, where, this, on, spot",
          "<b>Topic 2</b><br>Words: nik, where, matt, im, here",
          "<b>Topic 2</b><br>Words: agree, agreed, exactly, same, hear",
          "<b>Topic 2</b><br>Words: same, oh, ah, too, that",
          "<b>Topic 2</b><br>Words: hear, same, get, to, agree"
         ],
         "marker": {
          "color": "#009E73"
         },
         "mode": "lines",
         "name": "agreement sentiment",
         "type": "scatter",
         "x": [
          "2024-10-10T00:00:00",
          "2024-10-11T00:00:00",
          "2024-10-12T00:00:00",
          "2024-10-13T00:00:00",
          "2024-10-14T00:00:00",
          "2024-10-15T00:00:00",
          "2024-10-16T00:00:00"
         ],
         "y": [
          13,
          8,
          3,
          1,
          3,
          3,
          1
         ]
        },
        {
         "hoverinfo": "text",
         "hovertext": [
          "<b>Topic 3</b><br>Words: signed, sign, petition, petitions, signatures",
          "<b>Topic 3</b><br>Words: petition, petitions, signed, thousands, signatures",
          "<b>Topic 3</b><br>Words: petition, petitions, signed, here, activate",
          "<b>Topic 3</b><br>Words: petition, petitions, signatures, signed, signature"
         ],
         "marker": {
          "color": "#F0E442"
         },
         "mode": "lines",
         "name": "petition",
         "type": "scatter",
         "x": [
          "2024-10-10T00:00:00",
          "2024-10-11T00:00:00",
          "2024-10-12T00:00:00",
          "2024-10-15T00:00:00"
         ],
         "y": [
          7,
          2,
          1,
          21
         ]
        },
        {
         "hoverinfo": "text",
         "hovertext": [
          "<b>Topic 4</b><br>Words: professor, joined, meet, group, chatting",
          "<b>Topic 4</b><br>Words: group, meet, joined, working, coordination",
          "<b>Topic 4</b><br>Words: group, joined, admin, admins, chatwhatsappcomepccq16ts2xdwigwxta9gi",
          "<b>Topic 4</b><br>Words: docsgooglecomdocumentd1fxiivaent2zlsdacjsvldmwybvvvemsnbkqfngsox4edituspsharing, docsgooglecomdocumentd1kadyjrwjnfp091axpdjlezf, chatwhatsappcomepccq16ts2xdwigwxta9gi, links, link",
          "<b>Topic 4</b><br>Words: group, joined, message, chngitt89qxhc4mx, contact",
          "<b>Topic 4</b><br>Words: group, working, joined, join, legwork"
         ],
         "marker": {
          "color": "#D55E00"
         },
         "mode": "lines",
         "name": "working group meet",
         "type": "scatter",
         "x": [
          "2024-10-10T00:00:00",
          "2024-10-11T00:00:00",
          "2024-10-12T00:00:00",
          "2024-10-14T00:00:00",
          "2024-10-15T00:00:00",
          "2024-10-16T00:00:00"
         ],
         "y": [
          4,
          15,
          5,
          1,
          4,
          2
         ]
        },
        {
         "hoverinfo": "text",
         "hovertext": [
          "<b>Topic 5</b><br>Words: login, error, tried, worked, reset",
          "<b>Topic 5</b><br>Words: login, registered, account, password, reset",
          "<b>Topic 5</b><br>Words: reset, manually, registered, login, add",
          "<b>Topic 5</b><br>Words: login, password, registration, register, account"
         ],
         "marker": {
          "color": "#0072B2"
         },
         "mode": "lines",
         "name": "password login",
         "type": "scatter",
         "x": [
          "2024-10-10T00:00:00",
          "2024-10-11T00:00:00",
          "2024-10-12T00:00:00",
          "2024-10-15T00:00:00"
         ],
         "y": [
          6,
          8,
          2,
          14
         ]
        },
        {
         "hoverinfo": "text",
         "hovertext": [
          "<b>Topic 6</b><br>Words: governor, gov, leader, deputy, timeline",
          "<b>Topic 6</b><br>Words: governor, resigned, deputy, governers, resignation",
          "<b>Topic 6</b><br>Words: resignation, resigned, governor, timing, appointment",
          "<b>Topic 6</b><br>Words: deputy, bias, role, governor, resigned"
         ],
         "marker": {
          "color": "#CC79A7"
         },
         "mode": "lines",
         "name": "governor resigned",
         "type": "scatter",
         "x": [
          "2024-10-10T00:00:00",
          "2024-10-11T00:00:00",
          "2024-10-14T00:00:00",
          "2024-10-15T00:00:00"
         ],
         "y": [
          7,
          14,
          1,
          6
         ]
        },
        {
         "hoverinfo": "text",
         "hovertext": [
          "<b>Topic 7</b><br>Words: issues, shared, notes, initiatives, latest",
          "<b>Topic 7</b><br>Words: response, very, biased, happy, read",
          "<b>Topic 7</b><br>Words: joined, poll, done, add, contribute",
          "<b>Topic 7</b><br>Words: survey, responses, respond, research, do",
          "<b>Topic 7</b><br>Words: survey, filled, done, petition, fill",
          "<b>Topic 7</b><br>Words: issues, happy, check, issue, great",
          "<b>Topic 7</b><br>Words: enjoy, thanks, completed, done, survey"
         ],
         "marker": {
          "color": "#E69F00"
         },
         "mode": "lines",
         "name": "survey of issues",
         "type": "scatter",
         "x": [
          "2024-10-10T00:00:00",
          "2024-10-11T00:00:00",
          "2024-10-12T00:00:00",
          "2024-10-13T00:00:00",
          "2024-10-14T00:00:00",
          "2024-10-15T00:00:00",
          "2024-10-16T00:00:00"
         ],
         "y": [
          6,
          8,
          1,
          3,
          3,
          4,
          2
         ]
        },
        {
         "hoverinfo": "text",
         "hovertext": [
          "<b>Topic 8</b><br>Words: well, damn, good, , ",
          "<b>Topic 8</b><br>Words: , , , , ",
          "<b>Topic 8</b><br>Words: good, , , , ",
          "<b>Topic 8</b><br>Words: sorry, up, , , "
         ],
         "marker": {
          "color": "#56B4E9"
         },
         "mode": "lines",
         "name": "well damn sentiment",
         "type": "scatter",
         "x": [
          "2024-10-10T00:00:00",
          "2024-10-11T00:00:00",
          "2024-10-12T00:00:00",
          "2024-10-14T00:00:00"
         ],
         "y": [
          9,
          7,
          5,
          3
         ]
        },
        {
         "hoverinfo": "text",
         "hovertext": [
          "<b>Topic 9</b><br>Words: zoe, zoes, bella, her, sarah",
          "<b>Topic 9</b><br>Words: kate, emma, bella, her, she",
          "<b>Topic 9</b><br>Words: zoe, amy, zoes, messages, anna",
          "<b>Topic 9</b><br>Words: sussex, rebecca, line, mate, her",
          "<b>Topic 9</b><br>Words: wards, bella, booked, impact, surgery",
          "<b>Topic 9</b><br>Words: bella, if, sankey, wouldnt, jt"
         ],
         "marker": {
          "color": "#009E73"
         },
         "mode": "lines",
         "name": "Bella Sankey",
         "type": "scatter",
         "x": [
          "2024-10-10T00:00:00",
          "2024-10-11T00:00:00",
          "2024-10-12T00:00:00",
          "2024-10-13T00:00:00",
          "2024-10-14T00:00:00",
          "2024-10-15T00:00:00"
         ],
         "y": [
          12,
          5,
          2,
          1,
          2,
          2
         ]
        },
        {
         "hoverinfo": "text",
         "hovertext": [
          "<b>Topic 10</b><br>Words: quotes, changes, teachers, voices, parents",
          "<b>Topic 10</b><br>Words: parents, children, poll, consensus, concerned",
          "<b>Topic 10</b><br>Words: echo, educational, kids, children, parents",
          "<b>Topic 10</b><br>Words: socially, segregated, educational, children, parents",
          "<b>Topic 10</b><br>Words: bias, concerns, swayed, children, unpopular",
          "<b>Topic 10</b><br>Words: debate, children, parents, protests, legitimise"
         ],
         "marker": {
          "color": "#F0E442"
         },
         "mode": "lines",
         "name": "class debate",
         "type": "scatter",
         "x": [
          "2024-10-10T00:00:00",
          "2024-10-11T00:00:00",
          "2024-10-13T00:00:00",
          "2024-10-14T00:00:00",
          "2024-10-15T00:00:00",
          "2024-10-16T00:00:00"
         ],
         "y": [
          1,
          1,
          1,
          11,
          5,
          2
         ]
        },
        {
         "hoverinfo": "text",
         "hovertext": [
          "<b>Topic 11</b><br>Words: council, councilis, counsellors, lobbying, organised",
          "<b>Topic 11</b><br>Words: council, risk, submit, attending, submitted",
          "<b>Topic 11</b><br>Words: council, cllrs, complaints, messages, message",
          "<b>Topic 11</b><br>Words: council, parents, contacts, coordination, need",
          "<b>Topic 11</b><br>Words: council, councils, submit, copy, issues",
          "<b>Topic 11</b><br>Words: hanover, print, flyers, we, convey"
         ],
         "marker": {
          "color": "#D55E00"
         },
         "mode": "lines",
         "name": "complaint to council",
         "type": "scatter",
         "x": [
          "2024-10-11T00:00:00",
          "2024-10-12T00:00:00",
          "2024-10-13T00:00:00",
          "2024-10-14T00:00:00",
          "2024-10-15T00:00:00",
          "2024-10-16T00:00:00"
         ],
         "y": [
          7,
          3,
          1,
          1,
          8,
          1
         ]
        },
        {
         "hoverinfo": "text",
         "hovertext": [
          "<b>Topic 12</b><br>Words: democracycode, council, hovegovukmgdeclarationsubmissionaspxuid231446hid3259fid0hpid93460872, hovegovukmgepetitiondisplayaspxid937, uklinkedincominseankillick9255bb6b",
          "<b>Topic 12</b><br>Words: democracycode, uklinkedincominseankillick9255bb6b, council, hovegovukmgdeclarationsubmissionaspxuid231446hid3259fid0hpid93460872, labour",
          "<b>Topic 12</b><br>Words: democracycode, democracybrighton, uklinkedincominseankillick9255bb6b, hovegovukmgdeclarationsubmissionaspxuid231446hid3259fid0hpid93460872, hovegovukmgepetitiondisplayaspxid937",
          "<b>Topic 12</b><br>Words: council, democracycode, democracybrighton, uklinkedincominseankillick9255bb6b, members",
          "<b>Topic 12</b><br>Words: review, wwwfacebookcomgroupsbrightonandhoveschoolcatchmentspermalink8475080892608798, yup, mini, wwwbrighton",
          "<b>Topic 12</b><br>Words: uklinkedincominseankillick9255bb6b, gbprojectssecondary, hovegovukmgdeclarationsubmissionaspxuid231446hid3259fid0hpid93460872, hovegovukmgepetitiondisplayaspxid937, gbevents4b2209d1"
         ],
         "marker": {
          "color": "#0072B2"
         },
         "mode": "lines",
         "name": "websites",
         "type": "scatter",
         "x": [
          "2024-10-10T00:00:00",
          "2024-10-11T00:00:00",
          "2024-10-12T00:00:00",
          "2024-10-13T00:00:00",
          "2024-10-14T00:00:00",
          "2024-10-15T00:00:00"
         ],
         "y": [
          5,
          4,
          1,
          1,
          1,
          4
         ]
        },
        {
         "hoverinfo": "text",
         "hovertext": [
          "<b>Topic 13</b><br>Words: tony, alex, speaking, boland, ",
          "<b>Topic 13</b><br>Words: they, tho, back, had, to",
          "<b>Topic 13</b><br>Words: ruth, pinned, beth, message, alex",
          "<b>Topic 13</b><br>Words: left, beth, back, alex, duffy",
          "<b>Topic 13</b><br>Words: left, tab, ben, pinned, ruth"
         ],
         "marker": {
          "color": "#CC79A7"
         },
         "mode": "lines",
         "name": "Tony Boland",
         "type": "scatter",
         "x": [
          "2024-10-10T00:00:00",
          "2024-10-11T00:00:00",
          "2024-10-12T00:00:00",
          "2024-10-14T00:00:00",
          "2024-10-15T00:00:00"
         ],
         "y": [
          4,
          1,
          1,
          6,
          3
         ]
        },
        {
         "hoverinfo": "text",
         "hovertext": [
          "<b>Topic 14</b><br>Words: stanfords, stanford, schools, juniors, school",
          "<b>Topic 14</b><br>Words: stanfords, stanford, juniors, junior, infants"
         ],
         "marker": {
          "color": "#E69F00"
         },
         "mode": "lines",
         "name": "Stanford schools",
         "type": "scatter",
         "x": [
          "2024-10-11T00:00:00",
          "2024-10-12T00:00:00"
         ],
         "y": [
          8,
          7
         ]
        },
        {
         "hoverinfo": "text",
         "hovertext": [
          "<b>Topic 15</b><br>Words: councillor, councillors, council, deputy, committee",
          "<b>Topic 15</b><br>Words: councillor, councillors, complaint, disclose, decision",
          "<b>Topic 15</b><br>Words: councillors, councillor, council, complaint, complain",
          "<b>Topic 15</b><br>Words: councillors, councillor, represent, ward, ballot"
         ],
         "marker": {
          "color": "#56B4E9"
         },
         "mode": "lines",
         "name": "councillor complaint",
         "type": "scatter",
         "x": [
          "2024-10-10T00:00:00",
          "2024-10-11T00:00:00",
          "2024-10-12T00:00:00",
          "2024-10-14T00:00:00"
         ],
         "y": [
          3,
          9,
          1,
          1
         ]
        },
        {
         "hoverinfo": "text",
         "hovertext": [
          "<b>Topic 16</b><br>Words: listen, hoping, hope, sounding, wonder",
          "<b>Topic 16</b><br>Words: federations, proposals, proposing, engage, engaging",
          "<b>Topic 16</b><br>Words: proposals, proposing, 2027, hope, idea",
          "<b>Topic 16</b><br>Words: predisposition, proposing, proposals, angle, objecting",
          "<b>Topic 16</b><br>Words: discussing, engaging, engage, channels, proposing"
         ],
         "marker": {
          "color": "#009E73"
         },
         "mode": "lines",
         "name": "council proposals",
         "type": "scatter",
         "x": [
          "2024-10-10T00:00:00",
          "2024-10-11T00:00:00",
          "2024-10-14T00:00:00",
          "2024-10-15T00:00:00",
          "2024-10-16T00:00:00"
         ],
         "y": [
          1,
          2,
          4,
          2,
          2
         ]
        },
        {
         "hoverinfo": "text",
         "hovertext": [
          "<b>Topic 17</b><br>Words: 447833676761, 447917690579, 447813923917, 447990972401, 447928449551",
          "<b>Topic 17</b><br>Words: 447841419928, 447990972401, 447928449551, 447833676761, 447917690579",
          "<b>Topic 17</b><br>Words: 447813923917, 447917690579, 447833676761, 447990972401, 447841419928",
          "<b>Topic 17</b><br>Words: 447990972401, 447917690579, 447841419928, 447928449551, 447813923917"
         ],
         "marker": {
          "color": "#F0E442"
         },
         "mode": "lines",
         "name": "phone numbers",
         "type": "scatter",
         "x": [
          "2024-10-11T00:00:00",
          "2024-10-14T00:00:00",
          "2024-10-15T00:00:00",
          "2024-10-16T00:00:00"
         ],
         "y": [
          7,
          2,
          1,
          1
         ]
        }
       ],
       "layout": {
        "height": 450,
        "hoverlabel": {
         "bgcolor": "white",
         "font": {
          "family": "Rockwell",
          "size": 16
         }
        },
        "legend": {
         "title": {
          "text": "<b>Global Topic Representation"
         }
        },
        "template": {
         "data": {
          "bar": [
           {
            "error_x": {
             "color": "rgb(36,36,36)"
            },
            "error_y": {
             "color": "rgb(36,36,36)"
            },
            "marker": {
             "line": {
              "color": "white",
              "width": 0.5
             },
             "pattern": {
              "fillmode": "overlay",
              "size": 10,
              "solidity": 0.2
             }
            },
            "type": "bar"
           }
          ],
          "barpolar": [
           {
            "marker": {
             "line": {
              "color": "white",
              "width": 0.5
             },
             "pattern": {
              "fillmode": "overlay",
              "size": 10,
              "solidity": 0.2
             }
            },
            "type": "barpolar"
           }
          ],
          "carpet": [
           {
            "aaxis": {
             "endlinecolor": "rgb(36,36,36)",
             "gridcolor": "white",
             "linecolor": "white",
             "minorgridcolor": "white",
             "startlinecolor": "rgb(36,36,36)"
            },
            "baxis": {
             "endlinecolor": "rgb(36,36,36)",
             "gridcolor": "white",
             "linecolor": "white",
             "minorgridcolor": "white",
             "startlinecolor": "rgb(36,36,36)"
            },
            "type": "carpet"
           }
          ],
          "choropleth": [
           {
            "colorbar": {
             "outlinewidth": 1,
             "tickcolor": "rgb(36,36,36)",
             "ticks": "outside"
            },
            "type": "choropleth"
           }
          ],
          "contour": [
           {
            "colorbar": {
             "outlinewidth": 1,
             "tickcolor": "rgb(36,36,36)",
             "ticks": "outside"
            },
            "colorscale": [
             [
              0,
              "#440154"
             ],
             [
              0.1111111111111111,
              "#482878"
             ],
             [
              0.2222222222222222,
              "#3e4989"
             ],
             [
              0.3333333333333333,
              "#31688e"
             ],
             [
              0.4444444444444444,
              "#26828e"
             ],
             [
              0.5555555555555556,
              "#1f9e89"
             ],
             [
              0.6666666666666666,
              "#35b779"
             ],
             [
              0.7777777777777778,
              "#6ece58"
             ],
             [
              0.8888888888888888,
              "#b5de2b"
             ],
             [
              1,
              "#fde725"
             ]
            ],
            "type": "contour"
           }
          ],
          "contourcarpet": [
           {
            "colorbar": {
             "outlinewidth": 1,
             "tickcolor": "rgb(36,36,36)",
             "ticks": "outside"
            },
            "type": "contourcarpet"
           }
          ],
          "heatmap": [
           {
            "colorbar": {
             "outlinewidth": 1,
             "tickcolor": "rgb(36,36,36)",
             "ticks": "outside"
            },
            "colorscale": [
             [
              0,
              "#440154"
             ],
             [
              0.1111111111111111,
              "#482878"
             ],
             [
              0.2222222222222222,
              "#3e4989"
             ],
             [
              0.3333333333333333,
              "#31688e"
             ],
             [
              0.4444444444444444,
              "#26828e"
             ],
             [
              0.5555555555555556,
              "#1f9e89"
             ],
             [
              0.6666666666666666,
              "#35b779"
             ],
             [
              0.7777777777777778,
              "#6ece58"
             ],
             [
              0.8888888888888888,
              "#b5de2b"
             ],
             [
              1,
              "#fde725"
             ]
            ],
            "type": "heatmap"
           }
          ],
          "heatmapgl": [
           {
            "colorbar": {
             "outlinewidth": 1,
             "tickcolor": "rgb(36,36,36)",
             "ticks": "outside"
            },
            "colorscale": [
             [
              0,
              "#440154"
             ],
             [
              0.1111111111111111,
              "#482878"
             ],
             [
              0.2222222222222222,
              "#3e4989"
             ],
             [
              0.3333333333333333,
              "#31688e"
             ],
             [
              0.4444444444444444,
              "#26828e"
             ],
             [
              0.5555555555555556,
              "#1f9e89"
             ],
             [
              0.6666666666666666,
              "#35b779"
             ],
             [
              0.7777777777777778,
              "#6ece58"
             ],
             [
              0.8888888888888888,
              "#b5de2b"
             ],
             [
              1,
              "#fde725"
             ]
            ],
            "type": "heatmapgl"
           }
          ],
          "histogram": [
           {
            "marker": {
             "line": {
              "color": "white",
              "width": 0.6
             }
            },
            "type": "histogram"
           }
          ],
          "histogram2d": [
           {
            "colorbar": {
             "outlinewidth": 1,
             "tickcolor": "rgb(36,36,36)",
             "ticks": "outside"
            },
            "colorscale": [
             [
              0,
              "#440154"
             ],
             [
              0.1111111111111111,
              "#482878"
             ],
             [
              0.2222222222222222,
              "#3e4989"
             ],
             [
              0.3333333333333333,
              "#31688e"
             ],
             [
              0.4444444444444444,
              "#26828e"
             ],
             [
              0.5555555555555556,
              "#1f9e89"
             ],
             [
              0.6666666666666666,
              "#35b779"
             ],
             [
              0.7777777777777778,
              "#6ece58"
             ],
             [
              0.8888888888888888,
              "#b5de2b"
             ],
             [
              1,
              "#fde725"
             ]
            ],
            "type": "histogram2d"
           }
          ],
          "histogram2dcontour": [
           {
            "colorbar": {
             "outlinewidth": 1,
             "tickcolor": "rgb(36,36,36)",
             "ticks": "outside"
            },
            "colorscale": [
             [
              0,
              "#440154"
             ],
             [
              0.1111111111111111,
              "#482878"
             ],
             [
              0.2222222222222222,
              "#3e4989"
             ],
             [
              0.3333333333333333,
              "#31688e"
             ],
             [
              0.4444444444444444,
              "#26828e"
             ],
             [
              0.5555555555555556,
              "#1f9e89"
             ],
             [
              0.6666666666666666,
              "#35b779"
             ],
             [
              0.7777777777777778,
              "#6ece58"
             ],
             [
              0.8888888888888888,
              "#b5de2b"
             ],
             [
              1,
              "#fde725"
             ]
            ],
            "type": "histogram2dcontour"
           }
          ],
          "mesh3d": [
           {
            "colorbar": {
             "outlinewidth": 1,
             "tickcolor": "rgb(36,36,36)",
             "ticks": "outside"
            },
            "type": "mesh3d"
           }
          ],
          "parcoords": [
           {
            "line": {
             "colorbar": {
              "outlinewidth": 1,
              "tickcolor": "rgb(36,36,36)",
              "ticks": "outside"
             }
            },
            "type": "parcoords"
           }
          ],
          "pie": [
           {
            "automargin": true,
            "type": "pie"
           }
          ],
          "scatter": [
           {
            "fillpattern": {
             "fillmode": "overlay",
             "size": 10,
             "solidity": 0.2
            },
            "type": "scatter"
           }
          ],
          "scatter3d": [
           {
            "line": {
             "colorbar": {
              "outlinewidth": 1,
              "tickcolor": "rgb(36,36,36)",
              "ticks": "outside"
             }
            },
            "marker": {
             "colorbar": {
              "outlinewidth": 1,
              "tickcolor": "rgb(36,36,36)",
              "ticks": "outside"
             }
            },
            "type": "scatter3d"
           }
          ],
          "scattercarpet": [
           {
            "marker": {
             "colorbar": {
              "outlinewidth": 1,
              "tickcolor": "rgb(36,36,36)",
              "ticks": "outside"
             }
            },
            "type": "scattercarpet"
           }
          ],
          "scattergeo": [
           {
            "marker": {
             "colorbar": {
              "outlinewidth": 1,
              "tickcolor": "rgb(36,36,36)",
              "ticks": "outside"
             }
            },
            "type": "scattergeo"
           }
          ],
          "scattergl": [
           {
            "marker": {
             "colorbar": {
              "outlinewidth": 1,
              "tickcolor": "rgb(36,36,36)",
              "ticks": "outside"
             }
            },
            "type": "scattergl"
           }
          ],
          "scattermapbox": [
           {
            "marker": {
             "colorbar": {
              "outlinewidth": 1,
              "tickcolor": "rgb(36,36,36)",
              "ticks": "outside"
             }
            },
            "type": "scattermapbox"
           }
          ],
          "scatterpolar": [
           {
            "marker": {
             "colorbar": {
              "outlinewidth": 1,
              "tickcolor": "rgb(36,36,36)",
              "ticks": "outside"
             }
            },
            "type": "scatterpolar"
           }
          ],
          "scatterpolargl": [
           {
            "marker": {
             "colorbar": {
              "outlinewidth": 1,
              "tickcolor": "rgb(36,36,36)",
              "ticks": "outside"
             }
            },
            "type": "scatterpolargl"
           }
          ],
          "scatterternary": [
           {
            "marker": {
             "colorbar": {
              "outlinewidth": 1,
              "tickcolor": "rgb(36,36,36)",
              "ticks": "outside"
             }
            },
            "type": "scatterternary"
           }
          ],
          "surface": [
           {
            "colorbar": {
             "outlinewidth": 1,
             "tickcolor": "rgb(36,36,36)",
             "ticks": "outside"
            },
            "colorscale": [
             [
              0,
              "#440154"
             ],
             [
              0.1111111111111111,
              "#482878"
             ],
             [
              0.2222222222222222,
              "#3e4989"
             ],
             [
              0.3333333333333333,
              "#31688e"
             ],
             [
              0.4444444444444444,
              "#26828e"
             ],
             [
              0.5555555555555556,
              "#1f9e89"
             ],
             [
              0.6666666666666666,
              "#35b779"
             ],
             [
              0.7777777777777778,
              "#6ece58"
             ],
             [
              0.8888888888888888,
              "#b5de2b"
             ],
             [
              1,
              "#fde725"
             ]
            ],
            "type": "surface"
           }
          ],
          "table": [
           {
            "cells": {
             "fill": {
              "color": "rgb(237,237,237)"
             },
             "line": {
              "color": "white"
             }
            },
            "header": {
             "fill": {
              "color": "rgb(217,217,217)"
             },
             "line": {
              "color": "white"
             }
            },
            "type": "table"
           }
          ]
         },
         "layout": {
          "annotationdefaults": {
           "arrowhead": 0,
           "arrowwidth": 1
          },
          "autotypenumbers": "strict",
          "coloraxis": {
           "colorbar": {
            "outlinewidth": 1,
            "tickcolor": "rgb(36,36,36)",
            "ticks": "outside"
           }
          },
          "colorscale": {
           "diverging": [
            [
             0,
             "rgb(103,0,31)"
            ],
            [
             0.1,
             "rgb(178,24,43)"
            ],
            [
             0.2,
             "rgb(214,96,77)"
            ],
            [
             0.3,
             "rgb(244,165,130)"
            ],
            [
             0.4,
             "rgb(253,219,199)"
            ],
            [
             0.5,
             "rgb(247,247,247)"
            ],
            [
             0.6,
             "rgb(209,229,240)"
            ],
            [
             0.7,
             "rgb(146,197,222)"
            ],
            [
             0.8,
             "rgb(67,147,195)"
            ],
            [
             0.9,
             "rgb(33,102,172)"
            ],
            [
             1,
             "rgb(5,48,97)"
            ]
           ],
           "sequential": [
            [
             0,
             "#440154"
            ],
            [
             0.1111111111111111,
             "#482878"
            ],
            [
             0.2222222222222222,
             "#3e4989"
            ],
            [
             0.3333333333333333,
             "#31688e"
            ],
            [
             0.4444444444444444,
             "#26828e"
            ],
            [
             0.5555555555555556,
             "#1f9e89"
            ],
            [
             0.6666666666666666,
             "#35b779"
            ],
            [
             0.7777777777777778,
             "#6ece58"
            ],
            [
             0.8888888888888888,
             "#b5de2b"
            ],
            [
             1,
             "#fde725"
            ]
           ],
           "sequentialminus": [
            [
             0,
             "#440154"
            ],
            [
             0.1111111111111111,
             "#482878"
            ],
            [
             0.2222222222222222,
             "#3e4989"
            ],
            [
             0.3333333333333333,
             "#31688e"
            ],
            [
             0.4444444444444444,
             "#26828e"
            ],
            [
             0.5555555555555556,
             "#1f9e89"
            ],
            [
             0.6666666666666666,
             "#35b779"
            ],
            [
             0.7777777777777778,
             "#6ece58"
            ],
            [
             0.8888888888888888,
             "#b5de2b"
            ],
            [
             1,
             "#fde725"
            ]
           ]
          },
          "colorway": [
           "#1F77B4",
           "#FF7F0E",
           "#2CA02C",
           "#D62728",
           "#9467BD",
           "#8C564B",
           "#E377C2",
           "#7F7F7F",
           "#BCBD22",
           "#17BECF"
          ],
          "font": {
           "color": "rgb(36,36,36)"
          },
          "geo": {
           "bgcolor": "white",
           "lakecolor": "white",
           "landcolor": "white",
           "showlakes": true,
           "showland": true,
           "subunitcolor": "white"
          },
          "hoverlabel": {
           "align": "left"
          },
          "hovermode": "closest",
          "mapbox": {
           "style": "light"
          },
          "paper_bgcolor": "white",
          "plot_bgcolor": "white",
          "polar": {
           "angularaxis": {
            "gridcolor": "rgb(232,232,232)",
            "linecolor": "rgb(36,36,36)",
            "showgrid": false,
            "showline": true,
            "ticks": "outside"
           },
           "bgcolor": "white",
           "radialaxis": {
            "gridcolor": "rgb(232,232,232)",
            "linecolor": "rgb(36,36,36)",
            "showgrid": false,
            "showline": true,
            "ticks": "outside"
           }
          },
          "scene": {
           "xaxis": {
            "backgroundcolor": "white",
            "gridcolor": "rgb(232,232,232)",
            "gridwidth": 2,
            "linecolor": "rgb(36,36,36)",
            "showbackground": true,
            "showgrid": false,
            "showline": true,
            "ticks": "outside",
            "zeroline": false,
            "zerolinecolor": "rgb(36,36,36)"
           },
           "yaxis": {
            "backgroundcolor": "white",
            "gridcolor": "rgb(232,232,232)",
            "gridwidth": 2,
            "linecolor": "rgb(36,36,36)",
            "showbackground": true,
            "showgrid": false,
            "showline": true,
            "ticks": "outside",
            "zeroline": false,
            "zerolinecolor": "rgb(36,36,36)"
           },
           "zaxis": {
            "backgroundcolor": "white",
            "gridcolor": "rgb(232,232,232)",
            "gridwidth": 2,
            "linecolor": "rgb(36,36,36)",
            "showbackground": true,
            "showgrid": false,
            "showline": true,
            "ticks": "outside",
            "zeroline": false,
            "zerolinecolor": "rgb(36,36,36)"
           }
          },
          "shapedefaults": {
           "fillcolor": "black",
           "line": {
            "width": 0
           },
           "opacity": 0.3
          },
          "ternary": {
           "aaxis": {
            "gridcolor": "rgb(232,232,232)",
            "linecolor": "rgb(36,36,36)",
            "showgrid": false,
            "showline": true,
            "ticks": "outside"
           },
           "baxis": {
            "gridcolor": "rgb(232,232,232)",
            "linecolor": "rgb(36,36,36)",
            "showgrid": false,
            "showline": true,
            "ticks": "outside"
           },
           "bgcolor": "white",
           "caxis": {
            "gridcolor": "rgb(232,232,232)",
            "linecolor": "rgb(36,36,36)",
            "showgrid": false,
            "showline": true,
            "ticks": "outside"
           }
          },
          "title": {
           "x": 0.05
          },
          "xaxis": {
           "automargin": true,
           "gridcolor": "rgb(232,232,232)",
           "linecolor": "rgb(36,36,36)",
           "showgrid": false,
           "showline": true,
           "ticks": "outside",
           "title": {
            "standoff": 15
           },
           "zeroline": false,
           "zerolinecolor": "rgb(36,36,36)"
          },
          "yaxis": {
           "automargin": true,
           "gridcolor": "rgb(232,232,232)",
           "linecolor": "rgb(36,36,36)",
           "showgrid": false,
           "showline": true,
           "ticks": "outside",
           "title": {
            "standoff": 15
           },
           "zeroline": false,
           "zerolinecolor": "rgb(36,36,36)"
          }
         }
        },
        "title": {
         "font": {
          "color": "Black",
          "size": 22
         },
         "text": "",
         "x": 0.4,
         "xanchor": "center",
         "y": 0.95,
         "yanchor": "top"
        },
        "width": 1250,
        "xaxis": {
         "showgrid": true
        },
        "yaxis": {
         "showgrid": true,
         "title": {
          "text": "Frequency"
         }
        }
       }
      }
     },
     "metadata": {},
     "output_type": "display_data"
    }
   ],
   "source": [
    "topics_over_time = model.topics_over_time(df_messages.Message, timestamps=df_messages.Date)\n",
    "fig2 = model.visualize_topics_over_time(topics_over_time, title='', custom_labels=True)\n",
    "fig2.write_html('outputs/whatsapp_topics_over_time.html')\n",
    "fig2.show()"
   ]
  },
  {
   "cell_type": "markdown",
   "metadata": {},
   "source": [
    "## Analysing topics by sentiment "
   ]
  },
  {
   "cell_type": "code",
   "execution_count": 15,
   "metadata": {},
   "outputs": [],
   "source": [
    "df_sent_topic = df_messages.groupby(['topic','Date', 'label']).size().reset_index()\n",
    "df_sent_topic.columns = ['topic', 'Date', 'label', 'count']\n",
    "df_sent_topic.sort_values('Date', inplace=True)"
   ]
  },
  {
   "cell_type": "code",
   "execution_count": 16,
   "metadata": {},
   "outputs": [
    {
     "data": {
      "image/png": "[encoded data removed]",
      "text/plain": [
       "<Figure size 1000x600 with 1 Axes>"
      ]
     },
     "metadata": {},
     "output_type": "display_data"
    },
    {
     "data": {
      "image/png": "[encoded data removed]",
      "text/plain": [
       "<Figure size 1000x600 with 1 Axes>"
      ]
     },
     "metadata": {},
     "output_type": "display_data"
    },
    {
     "data": {
      "image/png": "[encoded data removed]",
      "text/plain": [
       "<Figure size 1000x600 with 1 Axes>"
      ]
     },
     "metadata": {},
     "output_type": "display_data"
    },
    {
     "data": {
      "image/png": "[encoded data removed]",
      "text/plain": [
       "<Figure size 1000x600 with 1 Axes>"
      ]
     },
     "metadata": {},
     "output_type": "display_data"
    },
    {
     "data": {
      "image/png": "[encoded data removed]",
      "text/plain": [
       "<Figure size 1000x600 with 1 Axes>"
      ]
     },
     "metadata": {},
     "output_type": "display_data"
    }
   ],
   "source": [
    "# Define the subset of topics to plot\n",
    "subset_topics = [0, 3, 6, 10, 15]\n",
    "color_dict = {'positive': 'green', 'neutral': 'grey', 'negative': 'red'}\n",
    "import seaborn as sns\n",
    "\n",
    "# Plot each topic over time stratified by sentiment\n",
    "for topic in subset_topics:\n",
    "    fig = plt.figure(figsize=(10, 6))\n",
    "\n",
    "    plot_data = df_sent_topic[df_sent_topic['topic'] == topic]\n",
    "    sns.lineplot(data=plot_data, x='Date', y='count', hue='label', palette=color_dict)\n",
    "  \n",
    "    plt.xlabel('Date')\n",
    "    plt.ylabel('Message Count')\n",
    "    plt.title(f'Topic \"{topic_labels_dict[topic]}\" over time')\n",
    "    plt.legend()\n",
    "    plt.xticks(rotation=45)\n",
    "    plt.tight_layout()\n",
    "    plt.show()"
   ]
  }
 ],
 "metadata": {
  "kernelspec": {
   "display_name": "nlp_env",
   "language": "python",
   "name": "python3"
  },
  "language_info": {
   "codemirror_mode": {
    "name": "ipython",
    "version": 3
   },
   "file_extension": ".py",
   "mimetype": "text/x-python",
   "name": "python",
   "nbconvert_exporter": "python",
   "pygments_lexer": "ipython3",
   "version": "3.9.20"
  }
 },
 "nbformat": 4,
 "nbformat_minor": 2
}
